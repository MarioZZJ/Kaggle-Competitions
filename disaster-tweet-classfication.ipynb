{
 "cells": [
  {
   "cell_type": "markdown",
   "id": "a5bdef60",
   "metadata": {
    "papermill": {
     "duration": 0.018608,
     "end_time": "2023-02-13T09:38:14.402743",
     "exception": false,
     "start_time": "2023-02-13T09:38:14.384135",
     "status": "completed"
    },
    "tags": []
   },
   "source": [
    "# 导入包读取数据\n"
   ]
  },
  {
   "cell_type": "code",
   "execution_count": 1,
   "id": "7c1f6c9e",
   "metadata": {
    "_cell_guid": "b1076dfc-b9ad-4769-8c92-a6c4dae69d19",
    "_uuid": "8f2839f25d086af736a60e9eeb907d3b93b6e0e5",
    "execution": {
     "iopub.execute_input": "2023-02-13T09:38:14.441085Z",
     "iopub.status.busy": "2023-02-13T09:38:14.440589Z",
     "iopub.status.idle": "2023-02-13T09:38:14.505020Z",
     "shell.execute_reply": "2023-02-13T09:38:14.504103Z"
    },
    "papermill": {
     "duration": 0.087837,
     "end_time": "2023-02-13T09:38:14.507366",
     "exception": false,
     "start_time": "2023-02-13T09:38:14.419529",
     "status": "completed"
    },
    "tags": []
   },
   "outputs": [],
   "source": [
    "import warnings\n",
    "warnings.filterwarnings(\"ignore\")\n",
    "import numpy as np\n",
    "import pandas as pd\n",
    "\n",
    "train_df = pd.read_csv(\"/kaggle/input/nlp-getting-started/train.csv\")\n",
    "test_df = pd.read_csv(\"/kaggle/input/nlp-getting-started/test.csv\")"
   ]
  },
  {
   "cell_type": "code",
   "execution_count": 2,
   "id": "81716522",
   "metadata": {
    "execution": {
     "iopub.execute_input": "2023-02-13T09:38:14.544419Z",
     "iopub.status.busy": "2023-02-13T09:38:14.543537Z",
     "iopub.status.idle": "2023-02-13T09:38:14.566982Z",
     "shell.execute_reply": "2023-02-13T09:38:14.566115Z"
    },
    "papermill": {
     "duration": 0.043093,
     "end_time": "2023-02-13T09:38:14.568935",
     "exception": false,
     "start_time": "2023-02-13T09:38:14.525842",
     "status": "completed"
    },
    "tags": []
   },
   "outputs": [
    {
     "data": {
      "text/html": [
       "<div>\n",
       "<style scoped>\n",
       "    .dataframe tbody tr th:only-of-type {\n",
       "        vertical-align: middle;\n",
       "    }\n",
       "\n",
       "    .dataframe tbody tr th {\n",
       "        vertical-align: top;\n",
       "    }\n",
       "\n",
       "    .dataframe thead th {\n",
       "        text-align: right;\n",
       "    }\n",
       "</style>\n",
       "<table border=\"1\" class=\"dataframe\">\n",
       "  <thead>\n",
       "    <tr style=\"text-align: right;\">\n",
       "      <th></th>\n",
       "      <th>id</th>\n",
       "      <th>keyword</th>\n",
       "      <th>location</th>\n",
       "      <th>text</th>\n",
       "      <th>target</th>\n",
       "    </tr>\n",
       "  </thead>\n",
       "  <tbody>\n",
       "    <tr>\n",
       "      <th>0</th>\n",
       "      <td>1</td>\n",
       "      <td>NaN</td>\n",
       "      <td>NaN</td>\n",
       "      <td>Our Deeds are the Reason of this #earthquake M...</td>\n",
       "      <td>1</td>\n",
       "    </tr>\n",
       "    <tr>\n",
       "      <th>1</th>\n",
       "      <td>4</td>\n",
       "      <td>NaN</td>\n",
       "      <td>NaN</td>\n",
       "      <td>Forest fire near La Ronge Sask. Canada</td>\n",
       "      <td>1</td>\n",
       "    </tr>\n",
       "    <tr>\n",
       "      <th>2</th>\n",
       "      <td>5</td>\n",
       "      <td>NaN</td>\n",
       "      <td>NaN</td>\n",
       "      <td>All residents asked to 'shelter in place' are ...</td>\n",
       "      <td>1</td>\n",
       "    </tr>\n",
       "    <tr>\n",
       "      <th>3</th>\n",
       "      <td>6</td>\n",
       "      <td>NaN</td>\n",
       "      <td>NaN</td>\n",
       "      <td>13,000 people receive #wildfires evacuation or...</td>\n",
       "      <td>1</td>\n",
       "    </tr>\n",
       "    <tr>\n",
       "      <th>4</th>\n",
       "      <td>7</td>\n",
       "      <td>NaN</td>\n",
       "      <td>NaN</td>\n",
       "      <td>Just got sent this photo from Ruby #Alaska as ...</td>\n",
       "      <td>1</td>\n",
       "    </tr>\n",
       "    <tr>\n",
       "      <th>...</th>\n",
       "      <td>...</td>\n",
       "      <td>...</td>\n",
       "      <td>...</td>\n",
       "      <td>...</td>\n",
       "      <td>...</td>\n",
       "    </tr>\n",
       "    <tr>\n",
       "      <th>7608</th>\n",
       "      <td>10869</td>\n",
       "      <td>NaN</td>\n",
       "      <td>NaN</td>\n",
       "      <td>Two giant cranes holding a bridge collapse int...</td>\n",
       "      <td>1</td>\n",
       "    </tr>\n",
       "    <tr>\n",
       "      <th>7609</th>\n",
       "      <td>10870</td>\n",
       "      <td>NaN</td>\n",
       "      <td>NaN</td>\n",
       "      <td>@aria_ahrary @TheTawniest The out of control w...</td>\n",
       "      <td>1</td>\n",
       "    </tr>\n",
       "    <tr>\n",
       "      <th>7610</th>\n",
       "      <td>10871</td>\n",
       "      <td>NaN</td>\n",
       "      <td>NaN</td>\n",
       "      <td>M1.94 [01:04 UTC]?5km S of Volcano Hawaii. htt...</td>\n",
       "      <td>1</td>\n",
       "    </tr>\n",
       "    <tr>\n",
       "      <th>7611</th>\n",
       "      <td>10872</td>\n",
       "      <td>NaN</td>\n",
       "      <td>NaN</td>\n",
       "      <td>Police investigating after an e-bike collided ...</td>\n",
       "      <td>1</td>\n",
       "    </tr>\n",
       "    <tr>\n",
       "      <th>7612</th>\n",
       "      <td>10873</td>\n",
       "      <td>NaN</td>\n",
       "      <td>NaN</td>\n",
       "      <td>The Latest: More Homes Razed by Northern Calif...</td>\n",
       "      <td>1</td>\n",
       "    </tr>\n",
       "  </tbody>\n",
       "</table>\n",
       "<p>7613 rows × 5 columns</p>\n",
       "</div>"
      ],
      "text/plain": [
       "         id keyword location  \\\n",
       "0         1     NaN      NaN   \n",
       "1         4     NaN      NaN   \n",
       "2         5     NaN      NaN   \n",
       "3         6     NaN      NaN   \n",
       "4         7     NaN      NaN   \n",
       "...     ...     ...      ...   \n",
       "7608  10869     NaN      NaN   \n",
       "7609  10870     NaN      NaN   \n",
       "7610  10871     NaN      NaN   \n",
       "7611  10872     NaN      NaN   \n",
       "7612  10873     NaN      NaN   \n",
       "\n",
       "                                                   text  target  \n",
       "0     Our Deeds are the Reason of this #earthquake M...       1  \n",
       "1                Forest fire near La Ronge Sask. Canada       1  \n",
       "2     All residents asked to 'shelter in place' are ...       1  \n",
       "3     13,000 people receive #wildfires evacuation or...       1  \n",
       "4     Just got sent this photo from Ruby #Alaska as ...       1  \n",
       "...                                                 ...     ...  \n",
       "7608  Two giant cranes holding a bridge collapse int...       1  \n",
       "7609  @aria_ahrary @TheTawniest The out of control w...       1  \n",
       "7610  M1.94 [01:04 UTC]?5km S of Volcano Hawaii. htt...       1  \n",
       "7611  Police investigating after an e-bike collided ...       1  \n",
       "7612  The Latest: More Homes Razed by Northern Calif...       1  \n",
       "\n",
       "[7613 rows x 5 columns]"
      ]
     },
     "execution_count": 2,
     "metadata": {},
     "output_type": "execute_result"
    }
   ],
   "source": [
    "train_df"
   ]
  },
  {
   "cell_type": "code",
   "execution_count": 3,
   "id": "8c4455ef",
   "metadata": {
    "execution": {
     "iopub.execute_input": "2023-02-13T09:38:14.604732Z",
     "iopub.status.busy": "2023-02-13T09:38:14.604151Z",
     "iopub.status.idle": "2023-02-13T09:38:14.616087Z",
     "shell.execute_reply": "2023-02-13T09:38:14.615145Z"
    },
    "papermill": {
     "duration": 0.032524,
     "end_time": "2023-02-13T09:38:14.618050",
     "exception": false,
     "start_time": "2023-02-13T09:38:14.585526",
     "status": "completed"
    },
    "tags": []
   },
   "outputs": [
    {
     "data": {
      "text/html": [
       "<div>\n",
       "<style scoped>\n",
       "    .dataframe tbody tr th:only-of-type {\n",
       "        vertical-align: middle;\n",
       "    }\n",
       "\n",
       "    .dataframe tbody tr th {\n",
       "        vertical-align: top;\n",
       "    }\n",
       "\n",
       "    .dataframe thead th {\n",
       "        text-align: right;\n",
       "    }\n",
       "</style>\n",
       "<table border=\"1\" class=\"dataframe\">\n",
       "  <thead>\n",
       "    <tr style=\"text-align: right;\">\n",
       "      <th></th>\n",
       "      <th>id</th>\n",
       "      <th>keyword</th>\n",
       "      <th>location</th>\n",
       "      <th>text</th>\n",
       "    </tr>\n",
       "  </thead>\n",
       "  <tbody>\n",
       "    <tr>\n",
       "      <th>0</th>\n",
       "      <td>0</td>\n",
       "      <td>NaN</td>\n",
       "      <td>NaN</td>\n",
       "      <td>Just happened a terrible car crash</td>\n",
       "    </tr>\n",
       "    <tr>\n",
       "      <th>1</th>\n",
       "      <td>2</td>\n",
       "      <td>NaN</td>\n",
       "      <td>NaN</td>\n",
       "      <td>Heard about #earthquake is different cities, s...</td>\n",
       "    </tr>\n",
       "    <tr>\n",
       "      <th>2</th>\n",
       "      <td>3</td>\n",
       "      <td>NaN</td>\n",
       "      <td>NaN</td>\n",
       "      <td>there is a forest fire at spot pond, geese are...</td>\n",
       "    </tr>\n",
       "    <tr>\n",
       "      <th>3</th>\n",
       "      <td>9</td>\n",
       "      <td>NaN</td>\n",
       "      <td>NaN</td>\n",
       "      <td>Apocalypse lighting. #Spokane #wildfires</td>\n",
       "    </tr>\n",
       "    <tr>\n",
       "      <th>4</th>\n",
       "      <td>11</td>\n",
       "      <td>NaN</td>\n",
       "      <td>NaN</td>\n",
       "      <td>Typhoon Soudelor kills 28 in China and Taiwan</td>\n",
       "    </tr>\n",
       "    <tr>\n",
       "      <th>...</th>\n",
       "      <td>...</td>\n",
       "      <td>...</td>\n",
       "      <td>...</td>\n",
       "      <td>...</td>\n",
       "    </tr>\n",
       "    <tr>\n",
       "      <th>3258</th>\n",
       "      <td>10861</td>\n",
       "      <td>NaN</td>\n",
       "      <td>NaN</td>\n",
       "      <td>EARTHQUAKE SAFETY LOS ANGELES ÛÒ SAFETY FASTE...</td>\n",
       "    </tr>\n",
       "    <tr>\n",
       "      <th>3259</th>\n",
       "      <td>10865</td>\n",
       "      <td>NaN</td>\n",
       "      <td>NaN</td>\n",
       "      <td>Storm in RI worse than last hurricane. My city...</td>\n",
       "    </tr>\n",
       "    <tr>\n",
       "      <th>3260</th>\n",
       "      <td>10868</td>\n",
       "      <td>NaN</td>\n",
       "      <td>NaN</td>\n",
       "      <td>Green Line derailment in Chicago http://t.co/U...</td>\n",
       "    </tr>\n",
       "    <tr>\n",
       "      <th>3261</th>\n",
       "      <td>10874</td>\n",
       "      <td>NaN</td>\n",
       "      <td>NaN</td>\n",
       "      <td>MEG issues Hazardous Weather Outlook (HWO) htt...</td>\n",
       "    </tr>\n",
       "    <tr>\n",
       "      <th>3262</th>\n",
       "      <td>10875</td>\n",
       "      <td>NaN</td>\n",
       "      <td>NaN</td>\n",
       "      <td>#CityofCalgary has activated its Municipal Eme...</td>\n",
       "    </tr>\n",
       "  </tbody>\n",
       "</table>\n",
       "<p>3263 rows × 4 columns</p>\n",
       "</div>"
      ],
      "text/plain": [
       "         id keyword location  \\\n",
       "0         0     NaN      NaN   \n",
       "1         2     NaN      NaN   \n",
       "2         3     NaN      NaN   \n",
       "3         9     NaN      NaN   \n",
       "4        11     NaN      NaN   \n",
       "...     ...     ...      ...   \n",
       "3258  10861     NaN      NaN   \n",
       "3259  10865     NaN      NaN   \n",
       "3260  10868     NaN      NaN   \n",
       "3261  10874     NaN      NaN   \n",
       "3262  10875     NaN      NaN   \n",
       "\n",
       "                                                   text  \n",
       "0                    Just happened a terrible car crash  \n",
       "1     Heard about #earthquake is different cities, s...  \n",
       "2     there is a forest fire at spot pond, geese are...  \n",
       "3              Apocalypse lighting. #Spokane #wildfires  \n",
       "4         Typhoon Soudelor kills 28 in China and Taiwan  \n",
       "...                                                 ...  \n",
       "3258  EARTHQUAKE SAFETY LOS ANGELES ÛÒ SAFETY FASTE...  \n",
       "3259  Storm in RI worse than last hurricane. My city...  \n",
       "3260  Green Line derailment in Chicago http://t.co/U...  \n",
       "3261  MEG issues Hazardous Weather Outlook (HWO) htt...  \n",
       "3262  #CityofCalgary has activated its Municipal Eme...  \n",
       "\n",
       "[3263 rows x 4 columns]"
      ]
     },
     "execution_count": 3,
     "metadata": {},
     "output_type": "execute_result"
    }
   ],
   "source": [
    "test_df"
   ]
  },
  {
   "cell_type": "code",
   "execution_count": 4,
   "id": "23826ad3",
   "metadata": {
    "execution": {
     "iopub.execute_input": "2023-02-13T09:38:14.653319Z",
     "iopub.status.busy": "2023-02-13T09:38:14.652410Z",
     "iopub.status.idle": "2023-02-13T09:38:14.661804Z",
     "shell.execute_reply": "2023-02-13T09:38:14.660978Z"
    },
    "papermill": {
     "duration": 0.029045,
     "end_time": "2023-02-13T09:38:14.663758",
     "exception": false,
     "start_time": "2023-02-13T09:38:14.634713",
     "status": "completed"
    },
    "tags": []
   },
   "outputs": [],
   "source": [
    "train_df['tweet'] = train_df['text']"
   ]
  },
  {
   "cell_type": "markdown",
   "id": "4df2ae16",
   "metadata": {
    "papermill": {
     "duration": 0.030603,
     "end_time": "2023-02-13T09:38:14.719393",
     "exception": false,
     "start_time": "2023-02-13T09:38:14.688790",
     "status": "completed"
    },
    "tags": []
   },
   "source": [
    "# 数据预处理\n",
    "\n",
    "## 数据概况\n",
    "\n",
    "数据来源于 Kaggle NLP 竞赛 [Natural Language Processing with Disaster Tweets](https://www.kaggle.com/competitions/nlp-getting-started/overview)。\n",
    "任务为根据给定的 twitter 推文文本，判断该推文是否与灾难相关，因此本任务为文本分类任务。\n",
    "\n",
    "根据读取结果，train 和 test 文件共包含 10876 条推文，其中 train 约占 70%。数据中存在推文发布地点、包含的灾难关键词。下载数据到本地后，对推文内容进行大致浏览，原始的文本存在一些问题需要处理：\n",
    "\n",
    "1. 推文包含话题（一般为以 `#` 起始的词，形如 `#NOWPLAYING`）、电子邮件地址、提及（一般为以 `@` 起始的用户名，形如 `@ARSONISTMUSIC`），可能对判断是否与灾难相关有重要帮助。处理思路：根据模式匹配出这些信息后续单独处理。\n",
    "2. 推文包含短链接（形如：`http://t.co/1ElreH1jLJ`），外部链接的短代码为 twitter 随机生成，无含义。处理思路：模式匹配从文本中去除链接，但可记录是否出现链接便于分类。\n",
    "3. 推文原文包含乱码、转义字符、标点符号。处理思路：转义、去除。\n",
    "4. 推文原文为原始自然文本，包含大小写多词性等。处理思路：词性还原，统一转小写。\n",
    "\n",
    "由于后续需要对测试集进行预测并提交到 Kaggle 平台进行评估，因此后续所有的数据预处理均封装为函数，便于对测试集使用相同的处理步骤。"
   ]
  },
  {
   "cell_type": "markdown",
   "id": "031a05e2",
   "metadata": {
    "papermill": {
     "duration": 0.016667,
     "end_time": "2023-02-13T09:38:14.763750",
     "exception": false,
     "start_time": "2023-02-13T09:38:14.747083",
     "status": "completed"
    },
    "tags": []
   },
   "source": [
    "## 转换小写\n"
   ]
  },
  {
   "cell_type": "code",
   "execution_count": 5,
   "id": "1ab230a7",
   "metadata": {
    "execution": {
     "iopub.execute_input": "2023-02-13T09:38:14.799810Z",
     "iopub.status.busy": "2023-02-13T09:38:14.798739Z",
     "iopub.status.idle": "2023-02-13T09:38:14.811104Z",
     "shell.execute_reply": "2023-02-13T09:38:14.810254Z"
    },
    "papermill": {
     "duration": 0.032612,
     "end_time": "2023-02-13T09:38:14.813120",
     "exception": false,
     "start_time": "2023-02-13T09:38:14.780508",
     "status": "completed"
    },
    "tags": []
   },
   "outputs": [],
   "source": [
    "train_df[\"text\"] = train_df[\"text\"].str.lower()\n",
    "test_df[\"text\"] = test_df[\"text\"].str.lower()"
   ]
  },
  {
   "cell_type": "markdown",
   "id": "2c3d77cd",
   "metadata": {
    "papermill": {
     "duration": 0.016623,
     "end_time": "2023-02-13T09:38:14.846441",
     "exception": false,
     "start_time": "2023-02-13T09:38:14.829818",
     "status": "completed"
    },
    "tags": []
   },
   "source": [
    "## 话题提及数据提取\n",
    "\n",
    "使用正则库即可实现规则匹配。邮件地址、提及部分后面往往接用户名，对句子含义无贡献，此时去除。"
   ]
  },
  {
   "cell_type": "code",
   "execution_count": 6,
   "id": "6c67c83d",
   "metadata": {
    "execution": {
     "iopub.execute_input": "2023-02-13T09:38:14.882183Z",
     "iopub.status.busy": "2023-02-13T09:38:14.881263Z",
     "iopub.status.idle": "2023-02-13T09:38:15.053382Z",
     "shell.execute_reply": "2023-02-13T09:38:15.052463Z"
    },
    "papermill": {
     "duration": 0.192465,
     "end_time": "2023-02-13T09:38:15.055701",
     "exception": false,
     "start_time": "2023-02-13T09:38:14.863236",
     "status": "completed"
    },
    "tags": []
   },
   "outputs": [],
   "source": [
    "import re\n",
    "\n",
    "def match_identifier(row,identifier):\n",
    "    topic_pattern = r\"{}\\S+\".format(identifier)\n",
    "    matches = re.findall(topic_pattern, row['text'])\n",
    "    return ''.join(matches)\n",
    "\n",
    "# 提取话题数据，标识符为 '#'\n",
    "train_df['topic'] = train_df.apply(match_identifier,axis=1,args='#')\n",
    "\n",
    "# 提取提及数据，标识符为 '@'\n",
    "train_df['mention'] = train_df.apply(match_identifier,axis=1,args='@')"
   ]
  },
  {
   "cell_type": "code",
   "execution_count": 7,
   "id": "b0f08006",
   "metadata": {
    "execution": {
     "iopub.execute_input": "2023-02-13T09:38:15.091339Z",
     "iopub.status.busy": "2023-02-13T09:38:15.091040Z",
     "iopub.status.idle": "2023-02-13T09:38:15.233067Z",
     "shell.execute_reply": "2023-02-13T09:38:15.231759Z"
    },
    "papermill": {
     "duration": 0.162461,
     "end_time": "2023-02-13T09:38:15.235313",
     "exception": false,
     "start_time": "2023-02-13T09:38:15.072852",
     "status": "completed"
    },
    "tags": []
   },
   "outputs": [],
   "source": [
    "def remove_mention_email(row):\n",
    "    text = row['text']\n",
    "    pattern_mention = re.compile(r'@\\S+')\n",
    "    text = re.sub(pattern_mention,' ',text)\n",
    "    pattern_email = re.compile(r'[\\w\\.-]+@[\\w\\.-]+\\.\\w+')\n",
    "    text = re.sub(pattern_email,'',text)\n",
    "    return text\n",
    "\n",
    "# 移除提及、邮件\n",
    "train_df['text'] = train_df.apply(remove_mention_email,axis=1)\n"
   ]
  },
  {
   "cell_type": "markdown",
   "id": "ca447efd",
   "metadata": {
    "papermill": {
     "duration": 0.016606,
     "end_time": "2023-02-13T09:38:15.268912",
     "exception": false,
     "start_time": "2023-02-13T09:38:15.252306",
     "status": "completed"
    },
    "tags": []
   },
   "source": [
    "## 链接检测识别\n",
    "\n",
    "twitter 中外链均为短链接形式 `http://t.co/xxxxxx`  ，数据集中仅存极少数其他域名外链，同样使用正则即可匹配。由于链接文本无意义，因此只需识别数量即可。同时从文中去掉这些链接。\n"
   ]
  },
  {
   "cell_type": "code",
   "execution_count": 8,
   "id": "5635dabe",
   "metadata": {
    "execution": {
     "iopub.execute_input": "2023-02-13T09:38:15.303694Z",
     "iopub.status.busy": "2023-02-13T09:38:15.303367Z",
     "iopub.status.idle": "2023-02-13T09:38:15.841515Z",
     "shell.execute_reply": "2023-02-13T09:38:15.840568Z"
    },
    "papermill": {
     "duration": 0.558235,
     "end_time": "2023-02-13T09:38:15.843858",
     "exception": false,
     "start_time": "2023-02-13T09:38:15.285623",
     "status": "completed"
    },
    "tags": []
   },
   "outputs": [],
   "source": [
    "def count_links(df):\n",
    "    df['url_count'] = 0\n",
    "    for index,row in df.iterrows():\n",
    "        text = row['text']\n",
    "        urls = re.findall(r\"https?://\\S+\",text)\n",
    "        url_count = 0\n",
    "        for url in urls:\n",
    "            text = text.replace(url,' ')\n",
    "            url_count += 1\n",
    "        df.at[index,'url_count'] = url_count\n",
    "        df.at[index,'text'] = text\n",
    "\n",
    "    return df\n",
    "\n",
    "# 计算链接数量并从数据集中删去链接\n",
    "train_df = count_links(train_df)"
   ]
  },
  {
   "cell_type": "markdown",
   "id": "94d1febf",
   "metadata": {
    "papermill": {
     "duration": 0.016668,
     "end_time": "2023-02-13T09:38:15.877745",
     "exception": false,
     "start_time": "2023-02-13T09:38:15.861077",
     "status": "completed"
    },
    "tags": []
   },
   "source": [
    "## 处理字符\n",
    "\n",
    "### 移除 html 标签及转义字符\n",
    "\n",
    "源数据在爬取时爬取到部分 html 标签及转义字符，这些字符对分类无益，在此去除。"
   ]
  },
  {
   "cell_type": "code",
   "execution_count": 9,
   "id": "aba76993",
   "metadata": {
    "execution": {
     "iopub.execute_input": "2023-02-13T09:38:15.913061Z",
     "iopub.status.busy": "2023-02-13T09:38:15.912158Z",
     "iopub.status.idle": "2023-02-13T09:38:17.910759Z",
     "shell.execute_reply": "2023-02-13T09:38:17.909795Z"
    },
    "papermill": {
     "duration": 2.018724,
     "end_time": "2023-02-13T09:38:17.913137",
     "exception": false,
     "start_time": "2023-02-13T09:38:15.894413",
     "status": "completed"
    },
    "tags": []
   },
   "outputs": [],
   "source": [
    "from bs4 import BeautifulSoup\n",
    "\n",
    "def remove_html(row):\n",
    "    soup = BeautifulSoup(row['text'])\n",
    "    text = soup.get_text()\n",
    "    return text\n",
    "\n",
    "# 移除 html\n",
    "train_df['text'] = train_df.apply(remove_html,axis=1)"
   ]
  },
  {
   "cell_type": "markdown",
   "id": "95c60296",
   "metadata": {
    "papermill": {
     "duration": 0.016685,
     "end_time": "2023-02-13T09:38:17.947548",
     "exception": false,
     "start_time": "2023-02-13T09:38:17.930863",
     "status": "completed"
    },
    "tags": []
   },
   "source": [
    "### 移除 unicode 乱码\n",
    "\n",
    "源文本中存在 unicode 乱码，须去除。"
   ]
  },
  {
   "cell_type": "code",
   "execution_count": 10,
   "id": "ada2fe51",
   "metadata": {
    "execution": {
     "iopub.execute_input": "2023-02-13T09:38:17.983729Z",
     "iopub.status.busy": "2023-02-13T09:38:17.982655Z",
     "iopub.status.idle": "2023-02-13T09:38:18.059103Z",
     "shell.execute_reply": "2023-02-13T09:38:18.058187Z"
    },
    "papermill": {
     "duration": 0.096963,
     "end_time": "2023-02-13T09:38:18.061356",
     "exception": false,
     "start_time": "2023-02-13T09:38:17.964393",
     "status": "completed"
    },
    "tags": []
   },
   "outputs": [],
   "source": [
    "def remove_unicode_chars(row):\n",
    "    text = row['text'].encode(\"ascii\", \"ignore\").decode()\n",
    "    return text\n",
    "\n",
    "# 移除 unicode\n",
    "train_df['text'] = train_df.apply(remove_unicode_chars,axis=1)"
   ]
  },
  {
   "cell_type": "markdown",
   "id": "d41385d0",
   "metadata": {
    "papermill": {
     "duration": 0.017728,
     "end_time": "2023-02-13T09:38:18.096359",
     "exception": false,
     "start_time": "2023-02-13T09:38:18.078631",
     "status": "completed"
    },
    "tags": []
   },
   "source": [
    "### 缩写展开\n",
    "\n",
    "源文本为真实推文，存在大量缩写，对缩写展开有利于后续识别语义。这里使用"
   ]
  },
  {
   "cell_type": "code",
   "execution_count": 11,
   "id": "918e2f36",
   "metadata": {
    "execution": {
     "iopub.execute_input": "2023-02-13T09:38:18.132444Z",
     "iopub.status.busy": "2023-02-13T09:38:18.131624Z",
     "iopub.status.idle": "2023-02-13T09:38:29.808958Z",
     "shell.execute_reply": "2023-02-13T09:38:29.807688Z"
    },
    "papermill": {
     "duration": 11.698542,
     "end_time": "2023-02-13T09:38:29.811912",
     "exception": false,
     "start_time": "2023-02-13T09:38:18.113370",
     "status": "completed"
    },
    "tags": []
   },
   "outputs": [
    {
     "name": "stdout",
     "output_type": "stream",
     "text": [
      "Collecting contractions\r\n",
      "  Downloading contractions-0.1.73-py2.py3-none-any.whl (8.7 kB)\r\n",
      "Collecting textsearch>=0.0.21\r\n",
      "  Downloading textsearch-0.0.24-py2.py3-none-any.whl (7.6 kB)\r\n",
      "Collecting anyascii\r\n",
      "  Downloading anyascii-0.3.1-py3-none-any.whl (287 kB)\r\n",
      "\u001b[2K     \u001b[90m━━━━━━━━━━━━━━━━━━━━━━━━━━━━━━━━━━━━━━━\u001b[0m \u001b[32m287.5/287.5 kB\u001b[0m \u001b[31m5.6 MB/s\u001b[0m eta \u001b[36m0:00:00\u001b[0m\r\n",
      "\u001b[?25hCollecting pyahocorasick\r\n",
      "  Downloading pyahocorasick-2.0.0-cp37-cp37m-manylinux_2_5_x86_64.manylinux1_x86_64.whl (101 kB)\r\n",
      "\u001b[2K     \u001b[90m━━━━━━━━━━━━━━━━━━━━━━━━━━━━━━━━━━━━━━\u001b[0m \u001b[32m101.8/101.8 kB\u001b[0m \u001b[31m10.1 MB/s\u001b[0m eta \u001b[36m0:00:00\u001b[0m\r\n",
      "\u001b[?25hInstalling collected packages: pyahocorasick, anyascii, textsearch, contractions\r\n",
      "Successfully installed anyascii-0.3.1 contractions-0.1.73 pyahocorasick-2.0.0 textsearch-0.0.24\r\n",
      "\u001b[33mWARNING: Running pip as the 'root' user can result in broken permissions and conflicting behaviour with the system package manager. It is recommended to use a virtual environment instead: https://pip.pypa.io/warnings/venv\u001b[0m\u001b[33m\r\n",
      "\u001b[0m"
     ]
    }
   ],
   "source": [
    "!pip install contractions"
   ]
  },
  {
   "cell_type": "code",
   "execution_count": 12,
   "id": "2c66fa9c",
   "metadata": {
    "execution": {
     "iopub.execute_input": "2023-02-13T09:38:29.848824Z",
     "iopub.status.busy": "2023-02-13T09:38:29.848432Z",
     "iopub.status.idle": "2023-02-13T09:38:29.927752Z",
     "shell.execute_reply": "2023-02-13T09:38:29.926886Z"
    },
    "papermill": {
     "duration": 0.099794,
     "end_time": "2023-02-13T09:38:29.929853",
     "exception": false,
     "start_time": "2023-02-13T09:38:29.830059",
     "status": "completed"
    },
    "tags": []
   },
   "outputs": [],
   "source": [
    "import contractions\n",
    "\n",
    "# 缩写展开\n",
    "train_df[\"text\"] = train_df[\"text\"].apply(contractions.fix)"
   ]
  },
  {
   "cell_type": "markdown",
   "id": "1a21bdb8",
   "metadata": {
    "papermill": {
     "duration": 0.017092,
     "end_time": "2023-02-13T09:38:29.964241",
     "exception": false,
     "start_time": "2023-02-13T09:38:29.947149",
     "status": "completed"
    },
    "tags": []
   },
   "source": [
    "### 去除符号\n",
    "\n",
    "前面已经处理了包含符号的内容，接下来可以把源文本中所有的符号直接删除。"
   ]
  },
  {
   "cell_type": "code",
   "execution_count": 13,
   "id": "dd92acaf",
   "metadata": {
    "execution": {
     "iopub.execute_input": "2023-02-13T09:38:30.001005Z",
     "iopub.status.busy": "2023-02-13T09:38:29.999528Z",
     "iopub.status.idle": "2023-02-13T09:38:30.114064Z",
     "shell.execute_reply": "2023-02-13T09:38:30.113163Z"
    },
    "papermill": {
     "duration": 0.134957,
     "end_time": "2023-02-13T09:38:30.116314",
     "exception": false,
     "start_time": "2023-02-13T09:38:29.981357",
     "status": "completed"
    },
    "tags": []
   },
   "outputs": [],
   "source": [
    "import string\n",
    "\n",
    "def remove_punctuations(row):\n",
    "    text = re.sub('[%s]' % re.escape(string.punctuation), \" \",row['text'])\n",
    "    return text\n",
    "\n",
    "# 去除符号\n",
    "train_df['text'] = train_df.apply(remove_punctuations,axis=1)"
   ]
  },
  {
   "cell_type": "markdown",
   "id": "a226ef9b",
   "metadata": {
    "papermill": {
     "duration": 0.017041,
     "end_time": "2023-02-13T09:38:30.150644",
     "exception": false,
     "start_time": "2023-02-13T09:38:30.133603",
     "status": "completed"
    },
    "tags": []
   },
   "source": [
    "### 去除数字"
   ]
  },
  {
   "cell_type": "code",
   "execution_count": 14,
   "id": "c3b9bc2f",
   "metadata": {
    "execution": {
     "iopub.execute_input": "2023-02-13T09:38:30.187131Z",
     "iopub.status.busy": "2023-02-13T09:38:30.185626Z",
     "iopub.status.idle": "2023-02-13T09:38:30.339964Z",
     "shell.execute_reply": "2023-02-13T09:38:30.339041Z"
    },
    "papermill": {
     "duration": 0.174715,
     "end_time": "2023-02-13T09:38:30.342302",
     "exception": false,
     "start_time": "2023-02-13T09:38:30.167587",
     "status": "completed"
    },
    "tags": []
   },
   "outputs": [],
   "source": [
    "def remove_digits(row):\n",
    "    pattern = re.compile(\"\\w*\\d+\\w*\")\n",
    "    text = re.sub(pattern, \"\",row['text'])\n",
    "    return text\n",
    "\n",
    "# 去除数字\n",
    "train_df['text'] = train_df.apply(remove_digits,axis=1)"
   ]
  },
  {
   "cell_type": "markdown",
   "id": "c493d58c",
   "metadata": {
    "papermill": {
     "duration": 0.016891,
     "end_time": "2023-02-13T09:38:30.376622",
     "exception": false,
     "start_time": "2023-02-13T09:38:30.359731",
     "status": "completed"
    },
    "tags": []
   },
   "source": [
    "## 词语处理\n",
    "\n",
    "### 去停用词\n",
    "\n",
    "推文中有大量无实际意义的词，如介词冠词等，保留这些词不利于解析语义。这里使用 `nltk` 包进行停用词去除。"
   ]
  },
  {
   "cell_type": "code",
   "execution_count": 15,
   "id": "2ff5497d",
   "metadata": {
    "execution": {
     "iopub.execute_input": "2023-02-13T09:38:30.412958Z",
     "iopub.status.busy": "2023-02-13T09:38:30.412046Z",
     "iopub.status.idle": "2023-02-13T09:38:31.849876Z",
     "shell.execute_reply": "2023-02-13T09:38:31.848911Z"
    },
    "papermill": {
     "duration": 1.458249,
     "end_time": "2023-02-13T09:38:31.852256",
     "exception": false,
     "start_time": "2023-02-13T09:38:30.394007",
     "status": "completed"
    },
    "tags": []
   },
   "outputs": [],
   "source": [
    "from nltk.corpus import stopwords\n",
    "stop_words = set(stopwords.words('english'))\n",
    "def remove_stopwords(row):\n",
    "    return \" \".join([word for word in str(row['text']).split() if word not in stop_words])\n",
    "\n",
    "# 去停用词\n",
    "train_df['text'] = train_df.apply(remove_stopwords,axis=1)"
   ]
  },
  {
   "cell_type": "markdown",
   "id": "4a80f388",
   "metadata": {
    "papermill": {
     "duration": 0.01695,
     "end_time": "2023-02-13T09:38:31.886917",
     "exception": false,
     "start_time": "2023-02-13T09:38:31.869967",
     "status": "completed"
    },
    "tags": []
   },
   "source": [
    "### 词性还原\n",
    "\n",
    "推文中，同一词语可能以不同时态词性出现，为便于识别语义，需对这些词进行词性还原。这里使用 `nltk` 包进行词性还原。"
   ]
  },
  {
   "cell_type": "code",
   "execution_count": 16,
   "id": "3e4dc50c",
   "metadata": {
    "execution": {
     "iopub.execute_input": "2023-02-13T09:38:31.922880Z",
     "iopub.status.busy": "2023-02-13T09:38:31.922350Z",
     "iopub.status.idle": "2023-02-13T09:38:33.858703Z",
     "shell.execute_reply": "2023-02-13T09:38:33.857725Z"
    },
    "papermill": {
     "duration": 1.957033,
     "end_time": "2023-02-13T09:38:33.861164",
     "exception": false,
     "start_time": "2023-02-13T09:38:31.904131",
     "status": "completed"
    },
    "tags": []
   },
   "outputs": [],
   "source": [
    "from nltk.stem import WordNetLemmatizer\n",
    "lemmatizer = WordNetLemmatizer()\n",
    "\n",
    "def lemmatize_text(row):\n",
    "    words = [lemmatizer.lemmatize(word) for word in row['text'].split()]\n",
    "    text = ' '.join(words)\n",
    "    return text\n",
    "\n",
    "# 词性还原\n",
    "train_df['text'] = train_df.apply(lemmatize_text,axis=1)"
   ]
  },
  {
   "cell_type": "markdown",
   "id": "a29eeba8",
   "metadata": {
    "papermill": {
     "duration": 0.017138,
     "end_time": "2023-02-13T09:38:33.895956",
     "exception": false,
     "start_time": "2023-02-13T09:38:33.878818",
     "status": "completed"
    },
    "tags": []
   },
   "source": [
    "最终得到已清洗的文本"
   ]
  },
  {
   "cell_type": "code",
   "execution_count": 17,
   "id": "77e25767",
   "metadata": {
    "execution": {
     "iopub.execute_input": "2023-02-13T09:38:33.931882Z",
     "iopub.status.busy": "2023-02-13T09:38:33.931115Z",
     "iopub.status.idle": "2023-02-13T09:38:33.944779Z",
     "shell.execute_reply": "2023-02-13T09:38:33.943789Z"
    },
    "papermill": {
     "duration": 0.033809,
     "end_time": "2023-02-13T09:38:33.946788",
     "exception": false,
     "start_time": "2023-02-13T09:38:33.912979",
     "status": "completed"
    },
    "tags": []
   },
   "outputs": [
    {
     "data": {
      "text/html": [
       "<div>\n",
       "<style scoped>\n",
       "    .dataframe tbody tr th:only-of-type {\n",
       "        vertical-align: middle;\n",
       "    }\n",
       "\n",
       "    .dataframe tbody tr th {\n",
       "        vertical-align: top;\n",
       "    }\n",
       "\n",
       "    .dataframe thead th {\n",
       "        text-align: right;\n",
       "    }\n",
       "</style>\n",
       "<table border=\"1\" class=\"dataframe\">\n",
       "  <thead>\n",
       "    <tr style=\"text-align: right;\">\n",
       "      <th></th>\n",
       "      <th>text</th>\n",
       "      <th>tweet</th>\n",
       "      <th>target</th>\n",
       "    </tr>\n",
       "  </thead>\n",
       "  <tbody>\n",
       "    <tr>\n",
       "      <th>0</th>\n",
       "      <td>deed reason earthquake may allah forgive u</td>\n",
       "      <td>Our Deeds are the Reason of this #earthquake M...</td>\n",
       "      <td>1</td>\n",
       "    </tr>\n",
       "    <tr>\n",
       "      <th>1</th>\n",
       "      <td>forest fire near la ronge sask canada</td>\n",
       "      <td>Forest fire near La Ronge Sask. Canada</td>\n",
       "      <td>1</td>\n",
       "    </tr>\n",
       "    <tr>\n",
       "      <th>2</th>\n",
       "      <td>resident asked shelter place notified officer ...</td>\n",
       "      <td>All residents asked to 'shelter in place' are ...</td>\n",
       "      <td>1</td>\n",
       "    </tr>\n",
       "    <tr>\n",
       "      <th>3</th>\n",
       "      <td>people receive wildfire evacuation order calif...</td>\n",
       "      <td>13,000 people receive #wildfires evacuation or...</td>\n",
       "      <td>1</td>\n",
       "    </tr>\n",
       "    <tr>\n",
       "      <th>4</th>\n",
       "      <td>got sent photo ruby alaska smoke wildfire pour...</td>\n",
       "      <td>Just got sent this photo from Ruby #Alaska as ...</td>\n",
       "      <td>1</td>\n",
       "    </tr>\n",
       "  </tbody>\n",
       "</table>\n",
       "</div>"
      ],
      "text/plain": [
       "                                                text  \\\n",
       "0         deed reason earthquake may allah forgive u   \n",
       "1              forest fire near la ronge sask canada   \n",
       "2  resident asked shelter place notified officer ...   \n",
       "3  people receive wildfire evacuation order calif...   \n",
       "4  got sent photo ruby alaska smoke wildfire pour...   \n",
       "\n",
       "                                               tweet  target  \n",
       "0  Our Deeds are the Reason of this #earthquake M...       1  \n",
       "1             Forest fire near La Ronge Sask. Canada       1  \n",
       "2  All residents asked to 'shelter in place' are ...       1  \n",
       "3  13,000 people receive #wildfires evacuation or...       1  \n",
       "4  Just got sent this photo from Ruby #Alaska as ...       1  "
      ]
     },
     "execution_count": 17,
     "metadata": {},
     "output_type": "execute_result"
    }
   ],
   "source": [
    "train_df[train_df.target == 1].loc[:,['text','tweet','target']].head(5)"
   ]
  },
  {
   "cell_type": "code",
   "execution_count": 18,
   "id": "4095d415",
   "metadata": {
    "execution": {
     "iopub.execute_input": "2023-02-13T09:38:33.982663Z",
     "iopub.status.busy": "2023-02-13T09:38:33.982364Z",
     "iopub.status.idle": "2023-02-13T09:38:33.996252Z",
     "shell.execute_reply": "2023-02-13T09:38:33.995363Z"
    },
    "papermill": {
     "duration": 0.034003,
     "end_time": "2023-02-13T09:38:33.998267",
     "exception": false,
     "start_time": "2023-02-13T09:38:33.964264",
     "status": "completed"
    },
    "tags": []
   },
   "outputs": [
    {
     "data": {
      "text/html": [
       "<div>\n",
       "<style scoped>\n",
       "    .dataframe tbody tr th:only-of-type {\n",
       "        vertical-align: middle;\n",
       "    }\n",
       "\n",
       "    .dataframe tbody tr th {\n",
       "        vertical-align: top;\n",
       "    }\n",
       "\n",
       "    .dataframe thead th {\n",
       "        text-align: right;\n",
       "    }\n",
       "</style>\n",
       "<table border=\"1\" class=\"dataframe\">\n",
       "  <thead>\n",
       "    <tr style=\"text-align: right;\">\n",
       "      <th></th>\n",
       "      <th>text</th>\n",
       "      <th>tweet</th>\n",
       "      <th>target</th>\n",
       "    </tr>\n",
       "  </thead>\n",
       "  <tbody>\n",
       "    <tr>\n",
       "      <th>7581</th>\n",
       "      <td>great atmosphere british lion gig tonight hear...</td>\n",
       "      <td>@engineshed Great atmosphere at the British Li...</td>\n",
       "      <td>0</td>\n",
       "    </tr>\n",
       "    <tr>\n",
       "      <th>7582</th>\n",
       "      <td>cramer iger word wrecked disney stock cnbc</td>\n",
       "      <td>Cramer: Iger's 3 words that wrecked Disney's s...</td>\n",
       "      <td>0</td>\n",
       "    </tr>\n",
       "    <tr>\n",
       "      <th>7584</th>\n",
       "      <td>box ready explode exploding kitten finally arr...</td>\n",
       "      <td>These boxes are ready to explode! Exploding Ki...</td>\n",
       "      <td>0</td>\n",
       "    </tr>\n",
       "    <tr>\n",
       "      <th>7587</th>\n",
       "      <td>siren everywhere</td>\n",
       "      <td>Sirens everywhere!</td>\n",
       "      <td>0</td>\n",
       "    </tr>\n",
       "    <tr>\n",
       "      <th>7593</th>\n",
       "      <td>heard really loud bang everyone asleep great</td>\n",
       "      <td>I just heard a really loud bang and everyone i...</td>\n",
       "      <td>0</td>\n",
       "    </tr>\n",
       "  </tbody>\n",
       "</table>\n",
       "</div>"
      ],
      "text/plain": [
       "                                                   text  \\\n",
       "7581  great atmosphere british lion gig tonight hear...   \n",
       "7582         cramer iger word wrecked disney stock cnbc   \n",
       "7584  box ready explode exploding kitten finally arr...   \n",
       "7587                                   siren everywhere   \n",
       "7593       heard really loud bang everyone asleep great   \n",
       "\n",
       "                                                  tweet  target  \n",
       "7581  @engineshed Great atmosphere at the British Li...       0  \n",
       "7582  Cramer: Iger's 3 words that wrecked Disney's s...       0  \n",
       "7584  These boxes are ready to explode! Exploding Ki...       0  \n",
       "7587                                 Sirens everywhere!       0  \n",
       "7593  I just heard a really loud bang and everyone i...       0  "
      ]
     },
     "execution_count": 18,
     "metadata": {},
     "output_type": "execute_result"
    }
   ],
   "source": [
    "train_df[train_df.target == 0].loc[:,['text','tweet','target']].tail(5)"
   ]
  },
  {
   "cell_type": "markdown",
   "id": "35b50a20",
   "metadata": {
    "papermill": {
     "duration": 0.017357,
     "end_time": "2023-02-13T09:38:34.033068",
     "exception": false,
     "start_time": "2023-02-13T09:38:34.015711",
     "status": "completed"
    },
    "tags": []
   },
   "source": [
    "最后，对测试集进行同样处理。"
   ]
  },
  {
   "cell_type": "code",
   "execution_count": 19,
   "id": "fad17466",
   "metadata": {
    "execution": {
     "iopub.execute_input": "2023-02-13T09:38:34.070213Z",
     "iopub.status.busy": "2023-02-13T09:38:34.068758Z",
     "iopub.status.idle": "2023-02-13T09:38:35.517056Z",
     "shell.execute_reply": "2023-02-13T09:38:35.516024Z"
    },
    "papermill": {
     "duration": 1.469128,
     "end_time": "2023-02-13T09:38:35.519529",
     "exception": false,
     "start_time": "2023-02-13T09:38:34.050401",
     "status": "completed"
    },
    "tags": []
   },
   "outputs": [],
   "source": [
    "test_df['tweet'] = test_df['text']\n",
    "test_df['topic'] = test_df.apply(match_identifier,axis=1,args='#')# 提取话题数据\n",
    "test_df['mention'] = test_df.apply(match_identifier,axis=1,args='@')# 提取提及数据\n",
    "test_df['text'] = test_df.apply(remove_mention_email,axis=1)# 移除提及、邮件\n",
    "test_df = count_links(test_df)# 计算链接数量并从数据集中删去链接\n",
    "test_df['text'] = test_df.apply(remove_html,axis=1)# 移除 html\n",
    "test_df['text'] = test_df.apply(remove_unicode_chars,axis=1)# 移除 unicode\n",
    "test_df[\"text\"] = test_df[\"text\"].apply(contractions.fix)# 缩写展开\n",
    "test_df['text'] = test_df.apply(remove_punctuations,axis=1)# 去除符号\n",
    "test_df['text'] = test_df.apply(remove_digits,axis=1)# 去除数字\n",
    "test_df['text'] = test_df.apply(remove_stopwords,axis=1)# 去停用词\n",
    "test_df['text'] = test_df.apply(lemmatize_text,axis=1)# 词性还原"
   ]
  },
  {
   "cell_type": "markdown",
   "id": "9e8d7475",
   "metadata": {
    "papermill": {
     "duration": 0.017325,
     "end_time": "2023-02-13T09:38:35.554800",
     "exception": false,
     "start_time": "2023-02-13T09:38:35.537475",
     "status": "completed"
    },
    "tags": []
   },
   "source": [
    "# 数据探索性分析\n",
    "\n",
    "文本经过清洗处理后，就可以送入模型进行训练了。在这之前，还需要对数据集进行一定的探索性分析，便于了解数据集概况。"
   ]
  },
  {
   "cell_type": "code",
   "execution_count": 20,
   "id": "e74a88c4",
   "metadata": {
    "execution": {
     "iopub.execute_input": "2023-02-13T09:38:35.591272Z",
     "iopub.status.busy": "2023-02-13T09:38:35.590948Z",
     "iopub.status.idle": "2023-02-13T09:38:35.651371Z",
     "shell.execute_reply": "2023-02-13T09:38:35.650476Z"
    },
    "papermill": {
     "duration": 0.081228,
     "end_time": "2023-02-13T09:38:35.653508",
     "exception": false,
     "start_time": "2023-02-13T09:38:35.572280",
     "status": "completed"
    },
    "tags": []
   },
   "outputs": [],
   "source": [
    "# 词数统计\n",
    "train_df['word_count'] = train_df['text'].apply(lambda x: len(str(x).split()))\n",
    "test_df['word_count'] = test_df['text'].apply(lambda x: len(str(x).split()))\n",
    "\n",
    "# 不重复词数统计\n",
    "train_df['unique_word_count'] = train_df['text'].apply(lambda x: len(set(str(x).split())))\n",
    "test_df['unique_word_count'] = test_df['text'].apply(lambda x: len(set(str(x).split())))\n",
    "\n",
    "# 标签词语统计\n",
    "train_df['hashtag_count'] = train_df['topic'].apply(lambda x: len([c for c in str(x) if c == '#']))\n",
    "test_df['hashtag_count'] = test_df['topic'].apply(lambda x: len([c for c in str(x) if c == '#']))\n",
    "\n",
    "# 提及统计\n",
    "train_df['mention_count'] = train_df['mention'].apply(lambda x: len([c for c in str(x) if c == '@']))\n",
    "test_df['mention_count'] = test_df['mention'].apply(lambda x: len([c for c in str(x) if c == '@']))"
   ]
  },
  {
   "cell_type": "code",
   "execution_count": 21,
   "id": "9aa71330",
   "metadata": {
    "execution": {
     "iopub.execute_input": "2023-02-13T09:38:35.690124Z",
     "iopub.status.busy": "2023-02-13T09:38:35.689839Z",
     "iopub.status.idle": "2023-02-13T09:38:35.719873Z",
     "shell.execute_reply": "2023-02-13T09:38:35.718925Z"
    },
    "papermill": {
     "duration": 0.050787,
     "end_time": "2023-02-13T09:38:35.722026",
     "exception": false,
     "start_time": "2023-02-13T09:38:35.671239",
     "status": "completed"
    },
    "tags": []
   },
   "outputs": [
    {
     "data": {
      "text/html": [
       "<div>\n",
       "<style scoped>\n",
       "    .dataframe tbody tr th:only-of-type {\n",
       "        vertical-align: middle;\n",
       "    }\n",
       "\n",
       "    .dataframe tbody tr th {\n",
       "        vertical-align: top;\n",
       "    }\n",
       "\n",
       "    .dataframe thead th {\n",
       "        text-align: right;\n",
       "    }\n",
       "</style>\n",
       "<table border=\"1\" class=\"dataframe\">\n",
       "  <thead>\n",
       "    <tr style=\"text-align: right;\">\n",
       "      <th></th>\n",
       "      <th>target</th>\n",
       "      <th>url_count</th>\n",
       "      <th>word_count</th>\n",
       "      <th>unique_word_count</th>\n",
       "      <th>hashtag_count</th>\n",
       "      <th>mention_count</th>\n",
       "    </tr>\n",
       "  </thead>\n",
       "  <tbody>\n",
       "    <tr>\n",
       "      <th>count</th>\n",
       "      <td>7613.00000</td>\n",
       "      <td>7613.000000</td>\n",
       "      <td>7613.000000</td>\n",
       "      <td>7613.000000</td>\n",
       "      <td>7613.000000</td>\n",
       "      <td>7613.000000</td>\n",
       "    </tr>\n",
       "    <tr>\n",
       "      <th>mean</th>\n",
       "      <td>0.42966</td>\n",
       "      <td>0.620123</td>\n",
       "      <td>8.548010</td>\n",
       "      <td>8.309471</td>\n",
       "      <td>0.445816</td>\n",
       "      <td>0.358597</td>\n",
       "    </tr>\n",
       "    <tr>\n",
       "      <th>std</th>\n",
       "      <td>0.49506</td>\n",
       "      <td>0.663930</td>\n",
       "      <td>3.478251</td>\n",
       "      <td>3.324752</td>\n",
       "      <td>1.098589</td>\n",
       "      <td>0.717163</td>\n",
       "    </tr>\n",
       "    <tr>\n",
       "      <th>min</th>\n",
       "      <td>0.00000</td>\n",
       "      <td>0.000000</td>\n",
       "      <td>0.000000</td>\n",
       "      <td>0.000000</td>\n",
       "      <td>0.000000</td>\n",
       "      <td>0.000000</td>\n",
       "    </tr>\n",
       "    <tr>\n",
       "      <th>25%</th>\n",
       "      <td>0.00000</td>\n",
       "      <td>0.000000</td>\n",
       "      <td>6.000000</td>\n",
       "      <td>6.000000</td>\n",
       "      <td>0.000000</td>\n",
       "      <td>0.000000</td>\n",
       "    </tr>\n",
       "    <tr>\n",
       "      <th>50%</th>\n",
       "      <td>0.00000</td>\n",
       "      <td>1.000000</td>\n",
       "      <td>9.000000</td>\n",
       "      <td>8.000000</td>\n",
       "      <td>0.000000</td>\n",
       "      <td>0.000000</td>\n",
       "    </tr>\n",
       "    <tr>\n",
       "      <th>75%</th>\n",
       "      <td>1.00000</td>\n",
       "      <td>1.000000</td>\n",
       "      <td>11.000000</td>\n",
       "      <td>11.000000</td>\n",
       "      <td>0.000000</td>\n",
       "      <td>1.000000</td>\n",
       "    </tr>\n",
       "    <tr>\n",
       "      <th>max</th>\n",
       "      <td>1.00000</td>\n",
       "      <td>4.000000</td>\n",
       "      <td>23.000000</td>\n",
       "      <td>21.000000</td>\n",
       "      <td>13.000000</td>\n",
       "      <td>8.000000</td>\n",
       "    </tr>\n",
       "  </tbody>\n",
       "</table>\n",
       "</div>"
      ],
      "text/plain": [
       "           target    url_count   word_count  unique_word_count  hashtag_count  \\\n",
       "count  7613.00000  7613.000000  7613.000000        7613.000000    7613.000000   \n",
       "mean      0.42966     0.620123     8.548010           8.309471       0.445816   \n",
       "std       0.49506     0.663930     3.478251           3.324752       1.098589   \n",
       "min       0.00000     0.000000     0.000000           0.000000       0.000000   \n",
       "25%       0.00000     0.000000     6.000000           6.000000       0.000000   \n",
       "50%       0.00000     1.000000     9.000000           8.000000       0.000000   \n",
       "75%       1.00000     1.000000    11.000000          11.000000       0.000000   \n",
       "max       1.00000     4.000000    23.000000          21.000000      13.000000   \n",
       "\n",
       "       mention_count  \n",
       "count    7613.000000  \n",
       "mean        0.358597  \n",
       "std         0.717163  \n",
       "min         0.000000  \n",
       "25%         0.000000  \n",
       "50%         0.000000  \n",
       "75%         1.000000  \n",
       "max         8.000000  "
      ]
     },
     "execution_count": 21,
     "metadata": {},
     "output_type": "execute_result"
    }
   ],
   "source": [
    "train_df.describe().iloc[:,1:]"
   ]
  },
  {
   "cell_type": "markdown",
   "id": "40eaae60",
   "metadata": {
    "execution": {
     "iopub.execute_input": "2023-02-12T07:39:14.765676Z",
     "iopub.status.busy": "2023-02-12T07:39:14.765298Z",
     "iopub.status.idle": "2023-02-12T07:39:14.771555Z",
     "shell.execute_reply": "2023-02-12T07:39:14.770253Z",
     "shell.execute_reply.started": "2023-02-12T07:39:14.765645Z"
    },
    "papermill": {
     "duration": 0.017587,
     "end_time": "2023-02-13T09:38:35.757824",
     "exception": false,
     "start_time": "2023-02-13T09:38:35.740237",
     "status": "completed"
    },
    "tags": []
   },
   "source": [
    "**样本标签分布**：57(非灾难):43(灾难)，较为均匀。"
   ]
  },
  {
   "cell_type": "code",
   "execution_count": 22,
   "id": "e273c23c",
   "metadata": {
    "execution": {
     "iopub.execute_input": "2023-02-13T09:38:35.798495Z",
     "iopub.status.busy": "2023-02-13T09:38:35.798127Z",
     "iopub.status.idle": "2023-02-13T09:38:38.058787Z",
     "shell.execute_reply": "2023-02-13T09:38:38.057961Z"
    },
    "papermill": {
     "duration": 2.287468,
     "end_time": "2023-02-13T09:38:38.063387",
     "exception": false,
     "start_time": "2023-02-13T09:38:35.775919",
     "status": "completed"
    },
    "tags": []
   },
   "outputs": [
    {
     "data": {
      "image/png": "[encoded data removed]",
      "text/plain": [
       "<Figure size 1500x2400 with 8 Axes>"
      ]
     },
     "metadata": {
      "needs_background": "light"
     },
     "output_type": "display_data"
    }
   ],
   "source": [
    "import matplotlib.pyplot as plt\n",
    "import seaborn as sns\n",
    "\n",
    "METAFEATURES = ['word_count', 'unique_word_count', 'hashtag_count', 'mention_count']\n",
    "fig, axes = plt.subplots(ncols=2, nrows=len(METAFEATURES), figsize=(15, 24), dpi=100)\n",
    "DISASTER_TWEETS = train_df['target'] == 1\n",
    "for i, feature in enumerate(METAFEATURES):\n",
    "    sns.histplot(train_df.loc[~DISASTER_TWEETS][feature], label='Not Disaster', ax=axes[i][0], color='green',alpha=0.4,binwidth=1,kde=True)\n",
    "    sns.histplot(train_df.loc[DISASTER_TWEETS][feature], label='Disaster', ax=axes[i][0], color='red',alpha=0.4,binwidth=1,kde=True)\n",
    "    \n",
    "    sns.histplot(train_df[feature], label='Training', ax=axes[i][1], color='blue',alpha=0.4,binwidth=1,kde=True)\n",
    "    sns.histplot(test_df[feature], label='Test', ax=axes[i][1], color='yellow',alpha=0.4,binwidth=1,kde=True)\n",
    "    \n",
    "    for j in range(2):\n",
    "        axes[i][j].set_xlabel('')\n",
    "        axes[i][j].tick_params(axis='x', labelsize=12)\n",
    "        axes[i][j].tick_params(axis='y', labelsize=12)\n",
    "        axes[i][j].legend()\n",
    "    \n",
    "    axes[i][0].set_title(f'{feature} Target Distribution in Training Set', fontsize=13)\n",
    "    axes[i][1].set_title(f'{feature} Training & Test Set Distribution', fontsize=13)\n",
    "\n",
    "plt.show()"
   ]
  },
  {
   "cell_type": "markdown",
   "id": "d6674b5d",
   "metadata": {
    "papermill": {
     "duration": 0.021613,
     "end_time": "2023-02-13T09:38:38.107559",
     "exception": false,
     "start_time": "2023-02-13T09:38:38.085946",
     "status": "completed"
    },
    "tags": []
   },
   "source": [
    "词频、不同词数量、标签词数量、提及数量上，无论是正负样本还是训练集、测试集，分布都类似。"
   ]
  },
  {
   "cell_type": "markdown",
   "id": "916fdc3e",
   "metadata": {
    "papermill": {
     "duration": 0.021235,
     "end_time": "2023-02-13T09:38:38.150088",
     "exception": false,
     "start_time": "2023-02-13T09:38:38.128853",
     "status": "completed"
    },
    "tags": []
   },
   "source": [
    "# 建模分析：传统方法\n",
    "\n",
    "传统方法中，只考虑 text 文本。\n",
    "\n",
    "## Model1: Unigram + CountVectorizer + RidgeClassifier\n"
   ]
  },
  {
   "cell_type": "code",
   "execution_count": 23,
   "id": "d4d289e7",
   "metadata": {
    "execution": {
     "iopub.execute_input": "2023-02-13T09:38:38.194606Z",
     "iopub.status.busy": "2023-02-13T09:38:38.194264Z",
     "iopub.status.idle": "2023-02-13T09:38:38.283968Z",
     "shell.execute_reply": "2023-02-13T09:38:38.283079Z"
    },
    "papermill": {
     "duration": 0.114654,
     "end_time": "2023-02-13T09:38:38.286097",
     "exception": false,
     "start_time": "2023-02-13T09:38:38.171443",
     "status": "completed"
    },
    "tags": []
   },
   "outputs": [],
   "source": [
    "from sklearn import feature_extraction, linear_model, model_selection, preprocessing\n",
    "\n",
    "count_vectorizer = feature_extraction.text.CountVectorizer()\n",
    "\n",
    "train_vec = count_vectorizer.fit_transform(train_df[\"text\"])"
   ]
  },
  {
   "cell_type": "code",
   "execution_count": 24,
   "id": "0b0d9e0c",
   "metadata": {
    "execution": {
     "iopub.execute_input": "2023-02-13T09:38:38.331319Z",
     "iopub.status.busy": "2023-02-13T09:38:38.330505Z",
     "iopub.status.idle": "2023-02-13T09:38:38.336161Z",
     "shell.execute_reply": "2023-02-13T09:38:38.335303Z"
    },
    "papermill": {
     "duration": 0.030271,
     "end_time": "2023-02-13T09:38:38.338075",
     "exception": false,
     "start_time": "2023-02-13T09:38:38.307804",
     "status": "completed"
    },
    "tags": []
   },
   "outputs": [],
   "source": [
    "ridge = linear_model.RidgeClassifier()\n",
    "param_grid = {'alpha': np.logspace(-3, 3, 7),\n",
    "              'fit_intercept': [True, False]}\n",
    "grid_search = model_selection.GridSearchCV(ridge, param_grid, cv=5, scoring='f1')"
   ]
  },
  {
   "cell_type": "code",
   "execution_count": 25,
   "id": "397199ee",
   "metadata": {
    "execution": {
     "iopub.execute_input": "2023-02-13T09:38:38.382928Z",
     "iopub.status.busy": "2023-02-13T09:38:38.381995Z",
     "iopub.status.idle": "2023-02-13T09:38:58.648618Z",
     "shell.execute_reply": "2023-02-13T09:38:58.647655Z"
    },
    "papermill": {
     "duration": 20.292419,
     "end_time": "2023-02-13T09:38:58.651884",
     "exception": false,
     "start_time": "2023-02-13T09:38:38.359465",
     "status": "completed"
    },
    "tags": []
   },
   "outputs": [
    {
     "data": {
      "text/plain": [
       "GridSearchCV(cv=5, estimator=RidgeClassifier(),\n",
       "             param_grid={'alpha': array([1.e-03, 1.e-02, 1.e-01, 1.e+00, 1.e+01, 1.e+02, 1.e+03]),\n",
       "                         'fit_intercept': [True, False]},\n",
       "             scoring='f1')"
      ]
     },
     "execution_count": 25,
     "metadata": {},
     "output_type": "execute_result"
    }
   ],
   "source": [
    "grid_search.fit(train_vec, train_df['target'])"
   ]
  },
  {
   "cell_type": "code",
   "execution_count": 26,
   "id": "b6b14410",
   "metadata": {
    "execution": {
     "iopub.execute_input": "2023-02-13T09:38:58.704565Z",
     "iopub.status.busy": "2023-02-13T09:38:58.704222Z",
     "iopub.status.idle": "2023-02-13T09:38:58.710054Z",
     "shell.execute_reply": "2023-02-13T09:38:58.709170Z"
    },
    "papermill": {
     "duration": 0.030596,
     "end_time": "2023-02-13T09:38:58.711921",
     "exception": false,
     "start_time": "2023-02-13T09:38:58.681325",
     "status": "completed"
    },
    "tags": []
   },
   "outputs": [
    {
     "data": {
      "text/plain": [
       "0.6401774342859325"
      ]
     },
     "execution_count": 26,
     "metadata": {},
     "output_type": "execute_result"
    }
   ],
   "source": [
    "grid_search.best_score_"
   ]
  },
  {
   "cell_type": "markdown",
   "id": "d6e41a67",
   "metadata": {
    "papermill": {
     "duration": 0.021299,
     "end_time": "2023-02-13T09:38:58.754659",
     "exception": false,
     "start_time": "2023-02-13T09:38:58.733360",
     "status": "completed"
    },
    "tags": []
   },
   "source": [
    "通过网格搜索方式对岭回归的参数进行调整。在五折交叉检验中，模型的最佳表现f1值为0.640。下面对测试集进行预测并提交到 Kaggle 进行评估。"
   ]
  },
  {
   "cell_type": "code",
   "execution_count": 27,
   "id": "a4174d26",
   "metadata": {
    "execution": {
     "iopub.execute_input": "2023-02-13T09:38:58.799055Z",
     "iopub.status.busy": "2023-02-13T09:38:58.798735Z",
     "iopub.status.idle": "2023-02-13T09:38:58.804612Z",
     "shell.execute_reply": "2023-02-13T09:38:58.803701Z"
    },
    "papermill": {
     "duration": 0.030587,
     "end_time": "2023-02-13T09:38:58.806593",
     "exception": false,
     "start_time": "2023-02-13T09:38:58.776006",
     "status": "completed"
    },
    "tags": []
   },
   "outputs": [
    {
     "data": {
      "text/plain": [
       "{'alpha': 1000.0, 'fit_intercept': False}"
      ]
     },
     "execution_count": 27,
     "metadata": {},
     "output_type": "execute_result"
    }
   ],
   "source": [
    "grid_search.best_params_"
   ]
  },
  {
   "cell_type": "code",
   "execution_count": 28,
   "id": "b61ec450",
   "metadata": {
    "execution": {
     "iopub.execute_input": "2023-02-13T09:38:58.851384Z",
     "iopub.status.busy": "2023-02-13T09:38:58.850725Z",
     "iopub.status.idle": "2023-02-13T09:38:58.962114Z",
     "shell.execute_reply": "2023-02-13T09:38:58.960748Z"
    },
    "papermill": {
     "duration": 0.136745,
     "end_time": "2023-02-13T09:38:58.964779",
     "exception": false,
     "start_time": "2023-02-13T09:38:58.828034",
     "status": "completed"
    },
    "tags": []
   },
   "outputs": [],
   "source": [
    "clf1 = linear_model.RidgeClassifier(alpha=100,fit_intercept=True)\n",
    "clf1.fit(train_vec, train_df['target'])\n",
    "\n",
    "test_vec = count_vectorizer.transform(test_df[\"text\"])\n",
    "\n",
    "# sample_submission = pd.read_csv(\"/kaggle/input/nlp-getting-started/sample_submission.csv\")\n",
    "# sample_submission[\"target\"] = clf1.predict(test_vec)\n",
    "# sample_submission.to_csv(\"submission.csv\", index=False)"
   ]
  },
  {
   "attachments": {
    "02be1d9c-e736-46bc-92b4-de91516fefd5.png": {
     "image/png": "[encoded data removed]"
    },
    "ce24f0ed-f12b-4aec-95a4-e19264367fa6.png": {
     "image/png": "[encoded data removed]"
    }
   },
   "cell_type": "markdown",
   "id": "7657d521",
   "metadata": {
    "papermill": {
     "duration": 0.022087,
     "end_time": "2023-02-13T09:38:59.037904",
     "exception": false,
     "start_time": "2023-02-13T09:38:59.015817",
     "status": "completed"
    },
    "tags": []
   },
   "source": [
    "**本次提交成绩 f1：0.78547。** 这一成绩略微超越 Kaggle 在本赛事设定的 benchmark（0.78179）。\n",
    "![image.png](attachment:02be1d9c-e736-46bc-92b4-de91516fefd5.png)\n",
    "![image.png](attachment:ce24f0ed-f12b-4aec-95a4-e19264367fa6.png)"
   ]
  },
  {
   "cell_type": "markdown",
   "id": "db0c3703",
   "metadata": {
    "papermill": {
     "duration": 0.021437,
     "end_time": "2023-02-13T09:38:59.081086",
     "exception": false,
     "start_time": "2023-02-13T09:38:59.059649",
     "status": "completed"
    },
    "tags": []
   },
   "source": [
    "## Model2：Bigram + CountVectorizer + RidgeClassifier"
   ]
  },
  {
   "cell_type": "code",
   "execution_count": 29,
   "id": "7002b7b1",
   "metadata": {
    "execution": {
     "iopub.execute_input": "2023-02-13T09:38:59.126123Z",
     "iopub.status.busy": "2023-02-13T09:38:59.125794Z",
     "iopub.status.idle": "2023-02-13T09:38:59.282964Z",
     "shell.execute_reply": "2023-02-13T09:38:59.282021Z"
    },
    "papermill": {
     "duration": 0.182608,
     "end_time": "2023-02-13T09:38:59.285426",
     "exception": false,
     "start_time": "2023-02-13T09:38:59.102818",
     "status": "completed"
    },
    "tags": []
   },
   "outputs": [],
   "source": [
    "big_vectorizer = feature_extraction.text.CountVectorizer(ngram_range=(2, 2))\n",
    "train_vec_big = big_vectorizer.fit_transform(train_df['text'])"
   ]
  },
  {
   "cell_type": "code",
   "execution_count": 30,
   "id": "53cbe63b",
   "metadata": {
    "execution": {
     "iopub.execute_input": "2023-02-13T09:38:59.331794Z",
     "iopub.status.busy": "2023-02-13T09:38:59.330901Z",
     "iopub.status.idle": "2023-02-13T09:39:05.134132Z",
     "shell.execute_reply": "2023-02-13T09:39:05.133167Z"
    },
    "papermill": {
     "duration": 5.829029,
     "end_time": "2023-02-13T09:39:05.136839",
     "exception": false,
     "start_time": "2023-02-13T09:38:59.307810",
     "status": "completed"
    },
    "tags": []
   },
   "outputs": [
    {
     "data": {
      "text/plain": [
       "GridSearchCV(cv=5, estimator=RidgeClassifier(),\n",
       "             param_grid={'alpha': array([1.e-03, 1.e-02, 1.e-01, 1.e+00, 1.e+01, 1.e+02, 1.e+03]),\n",
       "                         'fit_intercept': [True, False]},\n",
       "             scoring='f1')"
      ]
     },
     "execution_count": 30,
     "metadata": {},
     "output_type": "execute_result"
    }
   ],
   "source": [
    "ridge = linear_model.RidgeClassifier()\n",
    "param_grid = {'alpha': np.logspace(-3, 3, 7),\n",
    "              'fit_intercept': [True, False]}\n",
    "grid_search = model_selection.GridSearchCV(ridge, param_grid, cv=5, scoring='f1')\n",
    "grid_search.fit(train_vec_big, train_df['target'])"
   ]
  },
  {
   "cell_type": "code",
   "execution_count": 31,
   "id": "81711af8",
   "metadata": {
    "execution": {
     "iopub.execute_input": "2023-02-13T09:39:05.183486Z",
     "iopub.status.busy": "2023-02-13T09:39:05.183159Z",
     "iopub.status.idle": "2023-02-13T09:39:05.189188Z",
     "shell.execute_reply": "2023-02-13T09:39:05.188275Z"
    },
    "papermill": {
     "duration": 0.031087,
     "end_time": "2023-02-13T09:39:05.191194",
     "exception": false,
     "start_time": "2023-02-13T09:39:05.160107",
     "status": "completed"
    },
    "tags": []
   },
   "outputs": [
    {
     "data": {
      "text/plain": [
       "0.45466517197727124"
      ]
     },
     "execution_count": 31,
     "metadata": {},
     "output_type": "execute_result"
    }
   ],
   "source": [
    "grid_search.best_score_"
   ]
  },
  {
   "cell_type": "markdown",
   "id": "85f9ef1f",
   "metadata": {
    "papermill": {
     "duration": 0.021723,
     "end_time": "2023-02-13T09:39:05.235402",
     "exception": false,
     "start_time": "2023-02-13T09:39:05.213679",
     "status": "completed"
    },
    "tags": []
   },
   "source": [
    "使用 Bigram 后，经过网格搜索的最佳性能反而下降。原因可能是样本集较小，在训练集中不能尽可能全地出现双词组合，导致对其他句子的表示能力较弱，甚至弱于 Unigram。"
   ]
  },
  {
   "cell_type": "code",
   "execution_count": 32,
   "id": "6d4103e7",
   "metadata": {
    "execution": {
     "iopub.execute_input": "2023-02-13T09:39:05.281713Z",
     "iopub.status.busy": "2023-02-13T09:39:05.280808Z",
     "iopub.status.idle": "2023-02-13T09:39:05.287302Z",
     "shell.execute_reply": "2023-02-13T09:39:05.286334Z"
    },
    "papermill": {
     "duration": 0.031758,
     "end_time": "2023-02-13T09:39:05.289253",
     "exception": false,
     "start_time": "2023-02-13T09:39:05.257495",
     "status": "completed"
    },
    "tags": []
   },
   "outputs": [
    {
     "data": {
      "text/plain": [
       "{'alpha': 10.0, 'fit_intercept': False}"
      ]
     },
     "execution_count": 32,
     "metadata": {},
     "output_type": "execute_result"
    }
   ],
   "source": [
    "grid_search.best_params_"
   ]
  },
  {
   "cell_type": "code",
   "execution_count": 33,
   "id": "7a8058e9",
   "metadata": {
    "execution": {
     "iopub.execute_input": "2023-02-13T09:39:05.334778Z",
     "iopub.status.busy": "2023-02-13T09:39:05.334080Z",
     "iopub.status.idle": "2023-02-13T09:39:05.392325Z",
     "shell.execute_reply": "2023-02-13T09:39:05.391376Z"
    },
    "papermill": {
     "duration": 0.083718,
     "end_time": "2023-02-13T09:39:05.394754",
     "exception": false,
     "start_time": "2023-02-13T09:39:05.311036",
     "status": "completed"
    },
    "tags": []
   },
   "outputs": [],
   "source": [
    "clf2 = linear_model.RidgeClassifier(alpha=10,fit_intercept=False)\n",
    "clf2.fit(train_vec_big, train_df['target'])\n",
    "\n",
    "test_vec_big = big_vectorizer.transform(test_df[\"text\"])\n",
    "\n",
    "# sample_submission = pd.read_csv(\"/kaggle/input/nlp-getting-started/sample_submission.csv\")\n",
    "# sample_submission[\"target\"] = clf2.predict(test_vec_big)\n",
    "# sample_submission.to_csv(\"submission.csv\", index=False)"
   ]
  },
  {
   "attachments": {
    "657d7c51-3658-4451-8320-5a5e7db414cf.png": {
     "image/png": "[encoded data removed]"
    }
   },
   "cell_type": "markdown",
   "id": "a76e1acd",
   "metadata": {
    "papermill": {
     "duration": 0.021952,
     "end_time": "2023-02-13T09:39:05.438732",
     "exception": false,
     "start_time": "2023-02-13T09:39:05.416780",
     "status": "completed"
    },
    "tags": []
   },
   "source": [
    "**本次提交成绩f1：0.76064**，低于Model1。\n",
    "![image.png](attachment:657d7c51-3658-4451-8320-5a5e7db414cf.png)"
   ]
  },
  {
   "cell_type": "markdown",
   "id": "5e8f11fe",
   "metadata": {
    "papermill": {
     "duration": 0.022033,
     "end_time": "2023-02-13T09:39:05.482825",
     "exception": false,
     "start_time": "2023-02-13T09:39:05.460792",
     "status": "completed"
    },
    "tags": []
   },
   "source": [
    "# 建模分析：深度学习方法\n",
    "\n",
    "使用深度学习的方法，往往可以运用预训练模型对文本进行更好的表示。同时也可自行修改模型结构，融合更多的信息，优化模型的预测表现。\n",
    "\n",
    "## 基础设置\n",
    "\n",
    "设置好基础的深度学习环境（torch、Bert等），并调研句长便于后续配置模型结构。\n"
   ]
  },
  {
   "cell_type": "code",
   "execution_count": 34,
   "id": "f66c2fd8",
   "metadata": {
    "execution": {
     "iopub.execute_input": "2023-02-13T09:39:05.527786Z",
     "iopub.status.busy": "2023-02-13T09:39:05.527430Z",
     "iopub.status.idle": "2023-02-13T09:39:14.111961Z",
     "shell.execute_reply": "2023-02-13T09:39:14.110630Z"
    },
    "papermill": {
     "duration": 8.60998,
     "end_time": "2023-02-13T09:39:14.114441",
     "exception": false,
     "start_time": "2023-02-13T09:39:05.504461",
     "status": "completed"
    },
    "tags": []
   },
   "outputs": [
    {
     "name": "stdout",
     "output_type": "stream",
     "text": [
      "There are 1 GPU(s) available.\n",
      "We will use the GPU: Tesla P100-PCIE-16GB\n"
     ]
    },
    {
     "data": {
      "application/vnd.jupyter.widget-view+json": {
       "model_id": "6fcb4d5088fb43ef88d5bc4696101a7a",
       "version_major": 2,
       "version_minor": 0
      },
      "text/plain": [
       "Downloading:   0%|          | 0.00/226k [00:00<?, ?B/s]"
      ]
     },
     "metadata": {},
     "output_type": "display_data"
    },
    {
     "data": {
      "application/vnd.jupyter.widget-view+json": {
       "model_id": "d54bd45b616b4c78b1956c9fa312fa16",
       "version_major": 2,
       "version_minor": 0
      },
      "text/plain": [
       "Downloading:   0%|          | 0.00/28.0 [00:00<?, ?B/s]"
      ]
     },
     "metadata": {},
     "output_type": "display_data"
    },
    {
     "data": {
      "application/vnd.jupyter.widget-view+json": {
       "model_id": "d372e4e3d7a1479ca057d42955f232db",
       "version_major": 2,
       "version_minor": 0
      },
      "text/plain": [
       "Downloading:   0%|          | 0.00/571 [00:00<?, ?B/s]"
      ]
     },
     "metadata": {},
     "output_type": "display_data"
    }
   ],
   "source": [
    "import random\n",
    "import torch\n",
    "from transformers import BertTokenizer, BertForSequenceClassification, BertConfig, get_linear_schedule_with_warmup\n",
    "from torch.utils.data import TensorDataset, random_split, DataLoader, RandomSampler, SequentialSampler\n",
    "from torch.optim import AdamW\n",
    "\n",
    "if torch.cuda.is_available():    \n",
    "    device = torch.device('cuda')    \n",
    "    print('There are %d GPU(s) available.' % torch.cuda.device_count())\n",
    "    print('We will use the GPU:', torch.cuda.get_device_name(0))\n",
    "else:\n",
    "    print('No GPU available, using the CPU instead.')\n",
    "    device = torch.device('cpu')\n",
    "\n",
    "seed_val = 42\n",
    "random.seed(seed_val)\n",
    "np.random.seed(seed_val)\n",
    "torch.manual_seed(seed_val)\n",
    "torch.cuda.manual_seed_all(seed_val)\n",
    "tokenizer = BertTokenizer.from_pretrained('bert-large-uncased', do_lower_case=True)"
   ]
  },
  {
   "cell_type": "code",
   "execution_count": 35,
   "id": "3c45d58b",
   "metadata": {
    "execution": {
     "iopub.execute_input": "2023-02-13T09:39:14.167962Z",
     "iopub.status.busy": "2023-02-13T09:39:14.167600Z",
     "iopub.status.idle": "2023-02-13T09:39:18.531374Z",
     "shell.execute_reply": "2023-02-13T09:39:18.529285Z"
    },
    "papermill": {
     "duration": 4.393388,
     "end_time": "2023-02-13T09:39:18.534214",
     "exception": false,
     "start_time": "2023-02-13T09:39:14.140826",
     "status": "completed"
    },
    "tags": []
   },
   "outputs": [
    {
     "name": "stdout",
     "output_type": "stream",
     "text": [
      "最长句长:  36\n"
     ]
    }
   ],
   "source": [
    "combined = pd.concat([train_df, test_df]).text.values\n",
    "max_len = 0\n",
    "for text in combined:\n",
    "    input_ids = tokenizer.encode(text, add_special_tokens=True)\n",
    "    max_len = max(max_len, len(input_ids))\n",
    "print('最长句长: ', max_len)"
   ]
  },
  {
   "cell_type": "code",
   "execution_count": 36,
   "id": "ef8ee46a",
   "metadata": {
    "execution": {
     "iopub.execute_input": "2023-02-13T09:39:18.583055Z",
     "iopub.status.busy": "2023-02-13T09:39:18.581994Z",
     "iopub.status.idle": "2023-02-13T09:39:18.587587Z",
     "shell.execute_reply": "2023-02-13T09:39:18.586710Z"
    },
    "papermill": {
     "duration": 0.031651,
     "end_time": "2023-02-13T09:39:18.589560",
     "exception": false,
     "start_time": "2023-02-13T09:39:18.557909",
     "status": "completed"
    },
    "tags": []
   },
   "outputs": [],
   "source": [
    "idx = 7613\n",
    "train_text= combined[:idx]\n",
    "test_text = combined[idx:]\n",
    "train_text.shape\n",
    "\n",
    "labels = train_df['target'].values"
   ]
  },
  {
   "cell_type": "markdown",
   "id": "d50e397f",
   "metadata": {
    "papermill": {
     "duration": 0.022557,
     "end_time": "2023-02-13T09:39:18.634947",
     "exception": false,
     "start_time": "2023-02-13T09:39:18.612390",
     "status": "completed"
    },
    "tags": []
   },
   "source": [
    "## Model3：Bert-Text\n",
    "\n",
    "这里将使用简单的 `BertForSequenceClassification` 进行训练，会用到基于 `bert-large-uncased` 的语料的预训练模型。该模型包括基础的 Bert 模型和一个线性层，用于本题的二分类任务。\n",
    "\n",
    "### 数据封装"
   ]
  },
  {
   "cell_type": "code",
   "execution_count": 37,
   "id": "800b0af4",
   "metadata": {
    "execution": {
     "iopub.execute_input": "2023-02-13T09:39:18.681918Z",
     "iopub.status.busy": "2023-02-13T09:39:18.681569Z",
     "iopub.status.idle": "2023-02-13T09:39:18.688804Z",
     "shell.execute_reply": "2023-02-13T09:39:18.687819Z"
    },
    "papermill": {
     "duration": 0.033255,
     "end_time": "2023-02-13T09:39:18.690806",
     "exception": false,
     "start_time": "2023-02-13T09:39:18.657551",
     "status": "completed"
    },
    "tags": []
   },
   "outputs": [],
   "source": [
    "def tokenize_map(sentence,l='None'):\n",
    "    global labels\n",
    "    \n",
    "    input_ids = []\n",
    "    attention_masks = []\n",
    "    \n",
    "    for text in sentence:\n",
    "        encoded_dict = tokenizer.encode_plus(\n",
    "                            text,                      \n",
    "                            add_special_tokens = True, # 增加标签 '[CLS]' 和 '[SEP]'\n",
    "                            truncation='longest_first', # 截断方式\n",
    "                            max_length = 36,           # 最大长度，根据上面分析取最长\n",
    "                            pad_to_max_length = True, # 长度不够的填充\n",
    "                            return_attention_mask = True,\n",
    "                            return_tensors = 'pt',     # 返回类型为 pytorch tensors.\n",
    "                       )\n",
    "        input_ids.append(encoded_dict['input_ids']) # 汇总所有句子词的id，下面mask同\n",
    "        attention_masks.append(encoded_dict['attention_mask'])\n",
    "    #将 list 转为 tensor\n",
    "    input_ids = torch.cat(input_ids, dim=0)\n",
    "    attention_masks = torch.cat(attention_masks, dim=0)\n",
    "    \n",
    "    if l != 'None': # 不带标签，即测试集\n",
    "        labels = torch.tensor(labels)\n",
    "        return input_ids, attention_masks, labels\n",
    "    else:\n",
    "        return input_ids, attention_masks"
   ]
  },
  {
   "cell_type": "code",
   "execution_count": 38,
   "id": "5afb678e",
   "metadata": {
    "execution": {
     "iopub.execute_input": "2023-02-13T09:39:18.738013Z",
     "iopub.status.busy": "2023-02-13T09:39:18.737146Z",
     "iopub.status.idle": "2023-02-13T09:39:23.931466Z",
     "shell.execute_reply": "2023-02-13T09:39:23.930502Z"
    },
    "papermill": {
     "duration": 5.220609,
     "end_time": "2023-02-13T09:39:23.933990",
     "exception": false,
     "start_time": "2023-02-13T09:39:18.713381",
     "status": "completed"
    },
    "tags": []
   },
   "outputs": [],
   "source": [
    "# 分词、匹配id\n",
    "input_ids, attention_masks, labels = tokenize_map(train_text, labels)\n",
    "test_input_ids, test_attention_masks= tokenize_map(test_text)"
   ]
  },
  {
   "cell_type": "code",
   "execution_count": 39,
   "id": "b829be1e",
   "metadata": {
    "execution": {
     "iopub.execute_input": "2023-02-13T09:39:23.983865Z",
     "iopub.status.busy": "2023-02-13T09:39:23.982065Z",
     "iopub.status.idle": "2023-02-13T09:39:23.990337Z",
     "shell.execute_reply": "2023-02-13T09:39:23.988880Z"
    },
    "papermill": {
     "duration": 0.033875,
     "end_time": "2023-02-13T09:39:23.992282",
     "exception": false,
     "start_time": "2023-02-13T09:39:23.958407",
     "status": "completed"
    },
    "tags": []
   },
   "outputs": [
    {
     "name": "stdout",
     "output_type": "stream",
     "text": [
      "6,090 training samples\n",
      "1,523 validation samples\n"
     ]
    }
   ],
   "source": [
    "# 汇总训练集\n",
    "dataset = TensorDataset(input_ids, attention_masks, labels)\n",
    "# 拆分占 20% 的验证集\n",
    "train_size = int(0.8 * len(dataset))\n",
    "val_size = len(dataset) - train_size\n",
    "train_dataset, val_dataset = random_split(dataset, [train_size, val_size])\n",
    "\n",
    "print('{:>5,} training samples'.format(train_size))\n",
    "print('{:>5,} validation samples'.format(val_size))"
   ]
  },
  {
   "cell_type": "code",
   "execution_count": 40,
   "id": "024679c6",
   "metadata": {
    "execution": {
     "iopub.execute_input": "2023-02-13T09:39:24.039010Z",
     "iopub.status.busy": "2023-02-13T09:39:24.038185Z",
     "iopub.status.idle": "2023-02-13T09:39:24.043939Z",
     "shell.execute_reply": "2023-02-13T09:39:24.043091Z"
    },
    "papermill": {
     "duration": 0.031078,
     "end_time": "2023-02-13T09:39:24.045867",
     "exception": false,
     "start_time": "2023-02-13T09:39:24.014789",
     "status": "completed"
    },
    "tags": []
   },
   "outputs": [],
   "source": [
    "batch_size = 32\n",
    "\n",
    "# 使用 dataloader 加载数据\n",
    "\n",
    "train_dataloader = DataLoader(\n",
    "            train_dataset,\n",
    "            sampler = RandomSampler(train_dataset), # 随机选 batch\n",
    "            batch_size = batch_size\n",
    "        )\n",
    "\n",
    "validation_dataloader = DataLoader(\n",
    "            val_dataset, \n",
    "            sampler = SequentialSampler(val_dataset), # 验证评估时顺序无所谓\n",
    "        )"
   ]
  },
  {
   "cell_type": "code",
   "execution_count": 41,
   "id": "e4d82ebb",
   "metadata": {
    "execution": {
     "iopub.execute_input": "2023-02-13T09:39:24.092690Z",
     "iopub.status.busy": "2023-02-13T09:39:24.091897Z",
     "iopub.status.idle": "2023-02-13T09:39:24.097089Z",
     "shell.execute_reply": "2023-02-13T09:39:24.096236Z"
    },
    "papermill": {
     "duration": 0.030771,
     "end_time": "2023-02-13T09:39:24.099058",
     "exception": false,
     "start_time": "2023-02-13T09:39:24.068287",
     "status": "completed"
    },
    "tags": []
   },
   "outputs": [],
   "source": [
    "prediction_data = TensorDataset(test_input_ids, test_attention_masks)\n",
    "prediction_sampler = SequentialSampler(prediction_data)\n",
    "prediction_dataloader = DataLoader(prediction_data, sampler=prediction_sampler, batch_size=batch_size)"
   ]
  },
  {
   "cell_type": "markdown",
   "id": "31d88ef9",
   "metadata": {
    "papermill": {
     "duration": 0.023664,
     "end_time": "2023-02-13T09:39:24.144833",
     "exception": false,
     "start_time": "2023-02-13T09:39:24.121169",
     "status": "completed"
    },
    "tags": []
   },
   "source": [
    "### 加载模型\n",
    "\n",
    "`BertForSequenceClassification` 是一个预定义好的模型结构，包含 Bert 和一个线性层。"
   ]
  },
  {
   "cell_type": "code",
   "execution_count": 42,
   "id": "ae1e2de2",
   "metadata": {
    "execution": {
     "iopub.execute_input": "2023-02-13T09:39:24.192630Z",
     "iopub.status.busy": "2023-02-13T09:39:24.191733Z",
     "iopub.status.idle": "2023-02-13T09:40:20.364697Z",
     "shell.execute_reply": "2023-02-13T09:40:20.363714Z"
    },
    "papermill": {
     "duration": 56.199253,
     "end_time": "2023-02-13T09:40:20.367079",
     "exception": false,
     "start_time": "2023-02-13T09:39:24.167826",
     "status": "completed"
    },
    "tags": []
   },
   "outputs": [
    {
     "name": "stderr",
     "output_type": "stream",
     "text": [
      "Some weights of the model checkpoint at bert-large-uncased were not used when initializing BertForSequenceClassification: ['cls.seq_relationship.bias', 'cls.predictions.transform.dense.weight', 'cls.seq_relationship.weight', 'cls.predictions.bias', 'cls.predictions.transform.LayerNorm.weight', 'cls.predictions.decoder.weight', 'cls.predictions.transform.dense.bias', 'cls.predictions.transform.LayerNorm.bias']\n",
      "- This IS expected if you are initializing BertForSequenceClassification from the checkpoint of a model trained on another task or with another architecture (e.g. initializing a BertForSequenceClassification model from a BertForPreTraining model).\n",
      "- This IS NOT expected if you are initializing BertForSequenceClassification from the checkpoint of a model that you expect to be exactly identical (initializing a BertForSequenceClassification model from a BertForSequenceClassification model).\n",
      "Some weights of BertForSequenceClassification were not initialized from the model checkpoint at bert-large-uncased and are newly initialized: ['classifier.bias', 'classifier.weight']\n",
      "You should probably TRAIN this model on a down-stream task to be able to use it for predictions and inference.\n"
     ]
    }
   ],
   "source": [
    "%%capture\n",
    "model = BertForSequenceClassification.from_pretrained(\n",
    "    'bert-large-uncased', \n",
    "    num_labels = 2, # 二分类   \n",
    "    output_attentions = False, output_hidden_states = False, \n",
    ")# 加载模型，模型含 Bert 及一个线性层\n",
    "\n",
    "model.to(device) # 让模型加载到 GPU 上，加速运算"
   ]
  },
  {
   "cell_type": "markdown",
   "id": "35f66b48",
   "metadata": {
    "papermill": {
     "duration": 0.024705,
     "end_time": "2023-02-13T09:40:20.415696",
     "exception": false,
     "start_time": "2023-02-13T09:40:20.390991",
     "status": "completed"
    },
    "tags": []
   },
   "source": [
    "可以用 `named_parameters()` 方法查看模型结构："
   ]
  },
  {
   "cell_type": "code",
   "execution_count": 43,
   "id": "2e1287f8",
   "metadata": {
    "execution": {
     "iopub.execute_input": "2023-02-13T09:40:20.466409Z",
     "iopub.status.busy": "2023-02-13T09:40:20.466045Z",
     "iopub.status.idle": "2023-02-13T09:40:20.480224Z",
     "shell.execute_reply": "2023-02-13T09:40:20.477473Z"
    },
    "papermill": {
     "duration": 0.042037,
     "end_time": "2023-02-13T09:40:20.482338",
     "exception": false,
     "start_time": "2023-02-13T09:40:20.440301",
     "status": "completed"
    },
    "tags": []
   },
   "outputs": [
    {
     "name": "stdout",
     "output_type": "stream",
     "text": [
      "模型结构（BERT 模型参数数量 393）\n",
      "\n",
      "==== 嵌入层 ====\n",
      "bert.embeddings.word_embeddings.weight                  (30522, 1024)\n",
      "bert.embeddings.position_embeddings.weight               (512, 1024)\n",
      "bert.embeddings.token_type_embeddings.weight               (2, 1024)\n",
      "bert.embeddings.LayerNorm.weight                             (1024,)\n",
      "bert.embeddings.LayerNorm.bias                               (1024,)\n",
      "\n",
      "==== Transformer ====\n",
      "bert.encoder.layer.0.attention.self.query.weight        (1024, 1024)\n",
      "bert.encoder.layer.0.attention.self.query.bias               (1024,)\n",
      "bert.encoder.layer.0.attention.self.key.weight          (1024, 1024)\n",
      "bert.encoder.layer.0.attention.self.key.bias                 (1024,)\n",
      "bert.encoder.layer.0.attention.self.value.weight        (1024, 1024)\n",
      "bert.encoder.layer.0.attention.self.value.bias               (1024,)\n",
      "bert.encoder.layer.0.attention.output.dense.weight      (1024, 1024)\n",
      "bert.encoder.layer.0.attention.output.dense.bias             (1024,)\n",
      "bert.encoder.layer.0.attention.output.LayerNorm.weight       (1024,)\n",
      "bert.encoder.layer.0.attention.output.LayerNorm.bias         (1024,)\n",
      "bert.encoder.layer.0.intermediate.dense.weight          (4096, 1024)\n",
      "bert.encoder.layer.0.intermediate.dense.bias                 (4096,)\n",
      "bert.encoder.layer.0.output.dense.weight                (1024, 4096)\n",
      "bert.encoder.layer.0.output.dense.bias                       (1024,)\n",
      "bert.encoder.layer.0.output.LayerNorm.weight                 (1024,)\n",
      "bert.encoder.layer.0.output.LayerNorm.bias                   (1024,)\n",
      "\n",
      "==== 输出层 ====\n",
      "bert.pooler.dense.weight                                (1024, 1024)\n",
      "bert.pooler.dense.bias                                       (1024,)\n",
      "classifier.weight                                          (2, 1024)\n",
      "classifier.bias                                                 (2,)\n"
     ]
    }
   ],
   "source": [
    "# Get all of the model's parameters as a list of tuples:\n",
    "\n",
    "params = list(model.named_parameters())\n",
    "print('模型结构（BERT 模型参数数量 {:}）\\n'.format(len(params)))\n",
    "print('==== 嵌入层 ====')\n",
    "for p in params[0:5]:\n",
    "    print('{:<55} {:>12}'.format(p[0], str(tuple(p[1].size()))))\n",
    "\n",
    "print('\\n==== Transformer ====')\n",
    "for p in params[5:21]:\n",
    "    print('{:<55} {:>12}'.format(p[0], str(tuple(p[1].size()))))\n",
    "\n",
    "print('\\n==== 输出层 ====')\n",
    "for p in params[-4:]:\n",
    "    print('{:<55} {:>12}'.format(p[0], str(tuple(p[1].size()))))"
   ]
  },
  {
   "cell_type": "markdown",
   "id": "1422ae88",
   "metadata": {
    "papermill": {
     "duration": 0.023382,
     "end_time": "2023-02-13T09:40:20.532278",
     "exception": false,
     "start_time": "2023-02-13T09:40:20.508896",
     "status": "completed"
    },
    "tags": []
   },
   "source": [
    "随后是一些训练过程的配置，包括优化器、训练轮数、调度器等。"
   ]
  },
  {
   "cell_type": "code",
   "execution_count": 44,
   "id": "b6fc257f",
   "metadata": {
    "execution": {
     "iopub.execute_input": "2023-02-13T09:40:20.582544Z",
     "iopub.status.busy": "2023-02-13T09:40:20.582162Z",
     "iopub.status.idle": "2023-02-13T09:40:20.591443Z",
     "shell.execute_reply": "2023-02-13T09:40:20.590573Z"
    },
    "papermill": {
     "duration": 0.037734,
     "end_time": "2023-02-13T09:40:20.593617",
     "exception": false,
     "start_time": "2023-02-13T09:40:20.555883",
     "status": "completed"
    },
    "tags": []
   },
   "outputs": [],
   "source": [
    "optimizer = AdamW(model.parameters(),\n",
    "                  lr = 6e-6, \n",
    "                  eps = 1e-8 \n",
    "                )\n",
    "\n",
    "epochs = 3 # 训练轮数（Bert推荐2~4轮）\n",
    "total_steps = len(train_dataloader) * epochs\n",
    "\n",
    "scheduler = get_linear_schedule_with_warmup(optimizer, \n",
    "                                            num_warmup_steps = 0, \n",
    "                                            num_training_steps = total_steps)"
   ]
  },
  {
   "cell_type": "markdown",
   "id": "feaa64f1",
   "metadata": {
    "papermill": {
     "duration": 0.022656,
     "end_time": "2023-02-13T09:40:20.643212",
     "exception": false,
     "start_time": "2023-02-13T09:40:20.620556",
     "status": "completed"
    },
    "tags": []
   },
   "source": [
    "模型输出结果为 tensor，为此定义一些函数处理结果用于评估。"
   ]
  },
  {
   "cell_type": "code",
   "execution_count": 45,
   "id": "eb77e6c4",
   "metadata": {
    "execution": {
     "iopub.execute_input": "2023-02-13T09:40:20.697608Z",
     "iopub.status.busy": "2023-02-13T09:40:20.697212Z",
     "iopub.status.idle": "2023-02-13T09:40:20.704518Z",
     "shell.execute_reply": "2023-02-13T09:40:20.703479Z"
    },
    "papermill": {
     "duration": 0.040081,
     "end_time": "2023-02-13T09:40:20.707341",
     "exception": false,
     "start_time": "2023-02-13T09:40:20.667260",
     "status": "completed"
    },
    "tags": []
   },
   "outputs": [],
   "source": [
    "import time,datetime\n",
    "from sklearn.metrics import f1_score, accuracy_score\n",
    "def flat_accuracy(preds, labels):\n",
    "    pred_flat = np.argmax(preds, axis=1).flatten()\n",
    "    labels_flat = labels.flatten()   \n",
    "    return accuracy_score(labels_flat, pred_flat)\n",
    "\n",
    "def flat_f1(preds, labels):\n",
    "    pred_flat = np.argmax(preds, axis=1).flatten()\n",
    "    labels_flat = labels.flatten()\n",
    "    return f1_score(labels_flat, pred_flat)\n",
    "\n",
    "def format_time(elapsed):\n",
    "    elapsed_rounded = int(round((elapsed)))\n",
    "    return str(datetime.timedelta(seconds=elapsed_rounded))# hh:mm:ss"
   ]
  },
  {
   "cell_type": "markdown",
   "id": "527ce370",
   "metadata": {
    "papermill": {
     "duration": 0.023178,
     "end_time": "2023-02-13T09:40:20.754737",
     "exception": false,
     "start_time": "2023-02-13T09:40:20.731559",
     "status": "completed"
    },
    "tags": []
   },
   "source": [
    "接下来定义训练过程"
   ]
  },
  {
   "cell_type": "code",
   "execution_count": 46,
   "id": "214d79b9",
   "metadata": {
    "_kg_hide-output": false,
    "execution": {
     "iopub.execute_input": "2023-02-13T09:40:20.803030Z",
     "iopub.status.busy": "2023-02-13T09:40:20.802695Z",
     "iopub.status.idle": "2023-02-13T09:45:32.313122Z",
     "shell.execute_reply": "2023-02-13T09:45:32.311976Z"
    },
    "papermill": {
     "duration": 311.538924,
     "end_time": "2023-02-13T09:45:32.316418",
     "exception": false,
     "start_time": "2023-02-13T09:40:20.777494",
     "status": "completed"
    },
    "tags": []
   },
   "outputs": [
    {
     "name": "stdout",
     "output_type": "stream",
     "text": [
      "\n",
      "======== Epoch 1 / 3 ========\n",
      "  Batch    50  of    191.    Elapsed: 0:00:22.\n",
      "  Batch   100  of    191.    Elapsed: 0:00:44.\n",
      "  Batch   150  of    191.    Elapsed: 0:01:05.\n",
      "\n",
      "  Average training loss: 0.51\n",
      "  Training epcoh took: 0:01:22\n",
      "  Accuracy: 0.80\n",
      "  F1: 0.35\n",
      "  Validation Loss: 0.46\n",
      "  Validation took: 0:00:22\n",
      "\n",
      "======== Epoch 2 / 3 ========\n",
      "  Batch    50  of    191.    Elapsed: 0:00:21.\n",
      "  Batch   100  of    191.    Elapsed: 0:00:43.\n",
      "  Batch   150  of    191.    Elapsed: 0:01:04.\n",
      "\n",
      "  Average training loss: 0.40\n",
      "  Training epcoh took: 0:01:21\n",
      "  Accuracy: 0.82\n",
      "  F1: 0.33\n",
      "  Validation Loss: 0.42\n",
      "  Validation took: 0:00:22\n",
      "\n",
      "======== Epoch 3 / 3 ========\n",
      "  Batch    50  of    191.    Elapsed: 0:00:21.\n",
      "  Batch   100  of    191.    Elapsed: 0:00:43.\n",
      "  Batch   150  of    191.    Elapsed: 0:01:04.\n",
      "\n",
      "  Average training loss: 0.36\n",
      "  Training epcoh took: 0:01:21\n",
      "  Accuracy: 0.83\n",
      "  F1: 0.33\n",
      "  Validation Loss: 0.41\n",
      "  Validation took: 0:00:22\n",
      "\n",
      "总训练时间 0:05:11 (hh:mm:ss)\n"
     ]
    }
   ],
   "source": [
    "training_stats = [] # 记录训练数据：损失、精准率、F1值、训练时间\n",
    "total_t0 = time.time()\n",
    "\n",
    "for epoch_i in range(0, epochs):\n",
    "    print('\\n======== Epoch {:} / {:} ========'.format(epoch_i + 1, epochs))\n",
    "    t0 = time.time()\n",
    "    total_train_loss = 0\n",
    "    \n",
    "    model.train() # 变更模式为 train\n",
    "\n",
    "    ### 训练\n",
    "    for step, batch in enumerate(train_dataloader):\n",
    "        if step % 50 == 0 and not step == 0: # 每 50 个 Batch 汇报一次\n",
    "            elapsed = format_time(time.time() - t0)\n",
    "            print('  Batch {:>5,}  of  {:>5,}.    Elapsed: {:}.'.format(step, len(train_dataloader), elapsed))\n",
    "\n",
    "        # 转换该批结果\n",
    "        b_input_ids = batch[0].to(device).to(torch.int64)\n",
    "        b_input_mask = batch[1].to(device).to(torch.int64)\n",
    "        b_labels = batch[2].to(device).to(torch.int64)\n",
    "        \n",
    "        model.zero_grad()        \n",
    "\n",
    "        # 前向传播\n",
    "        r = model(b_input_ids, \n",
    "             token_type_ids=None, \n",
    "             attention_mask=b_input_mask, \n",
    "             labels=b_labels)\n",
    "        loss = r.loss\n",
    "        logits = r.logits\n",
    "        \n",
    "        # 累积损失\n",
    "        total_train_loss += loss.item()\n",
    "\n",
    "        # 反向传播\n",
    "        loss.backward()\n",
    "\n",
    "        # 为防止梯度爆炸，进行梯度剪裁\n",
    "        torch.nn.utils.clip_grad_norm_(model.parameters(), 1.0)\n",
    "\n",
    "        optimizer.step() # 更新参数\n",
    "        scheduler.step() # 更新学习率\n",
    "\n",
    "    # 计算总损失和时间\n",
    "    avg_train_loss = total_train_loss / len(train_dataloader)            \n",
    "    training_time = format_time(time.time() - t0)\n",
    "\n",
    "    print('\\n  Average training loss: {0:.2f}'.format(avg_train_loss))\n",
    "    print('  Training epcoh took: {:}'.format(training_time))\n",
    "        \n",
    "    ### 验证集评估\n",
    "    t0 = time.time()\n",
    "    model.eval() # 变更模式为 evaluation\n",
    "    total_eval_accuracy = 0\n",
    "    total_eval_loss = 0\n",
    "    total_eval_f1 = 0\n",
    "    nb_eval_steps = 0\n",
    "    \n",
    "    for batch in validation_dataloader:\n",
    "        b_input_ids = batch[0].to(device)\n",
    "        b_input_mask = batch[1].to(device)\n",
    "        b_labels = batch[2].to(device)\n",
    "        \n",
    "        with torch.no_grad(): # 验证过程中不用计算图，告知pytorch\n",
    "            r = model(b_input_ids, \n",
    "                   token_type_ids=None, \n",
    "                   attention_mask=b_input_mask,\n",
    "                   labels=b_labels)\n",
    "            loss = r.loss\n",
    "            logits = r.logits\n",
    "            \n",
    "        total_eval_loss += loss.item()\n",
    "        \n",
    "        logits = logits.detach().cpu().numpy() # 数据返回到cpu\n",
    "        label_ids = b_labels.to('cpu').numpy()\n",
    "        total_eval_accuracy += flat_accuracy(logits, label_ids)\n",
    "        total_eval_f1 += flat_f1(logits, label_ids)\n",
    "        \n",
    "    # 汇总本轮训练评估\n",
    "    avg_val_accuracy = total_eval_accuracy / len(validation_dataloader)\n",
    "    print('  Accuracy: {0:.2f}'.format(avg_val_accuracy))\n",
    "    avg_val_f1 = total_eval_f1 / len(validation_dataloader)\n",
    "    print('  F1: {0:.2f}'.format(avg_val_f1))\n",
    "    avg_val_loss = total_eval_loss / len(validation_dataloader)\n",
    "    validation_time = format_time(time.time() - t0)\n",
    "    print('  Validation Loss: {0:.2f}'.format(avg_val_loss))\n",
    "    print('  Validation took: {:}'.format(validation_time))\n",
    "    training_stats.append(\n",
    "        {\n",
    "            'epoch': epoch_i + 1,\n",
    "            'Training Loss': avg_train_loss,\n",
    "            'Valid. Loss': avg_val_loss,\n",
    "            'Valid. Accur.': avg_val_accuracy,\n",
    "            'Val_F1' : avg_val_f1,\n",
    "            'Training Time': training_time,\n",
    "            'Validation Time': validation_time\n",
    "        }\n",
    "    )\n",
    "\n",
    "print('\\n总训练时间 {:} (hh:mm:ss)'.format(format_time(time.time()-total_t0)))"
   ]
  },
  {
   "cell_type": "markdown",
   "id": "fa4f9e8c",
   "metadata": {
    "papermill": {
     "duration": 0.023436,
     "end_time": "2023-02-13T09:45:32.364862",
     "exception": false,
     "start_time": "2023-02-13T09:45:32.341426",
     "status": "completed"
    },
    "tags": []
   },
   "source": [
    "训练完成后展示训练结果，三轮训练后损失下降，验证集表现不断上升。总耗时约5分钟。"
   ]
  },
  {
   "cell_type": "code",
   "execution_count": 47,
   "id": "e6c899ee",
   "metadata": {
    "execution": {
     "iopub.execute_input": "2023-02-13T09:45:32.413991Z",
     "iopub.status.busy": "2023-02-13T09:45:32.413171Z",
     "iopub.status.idle": "2023-02-13T09:45:32.428471Z",
     "shell.execute_reply": "2023-02-13T09:45:32.427515Z"
    },
    "papermill": {
     "duration": 0.042212,
     "end_time": "2023-02-13T09:45:32.430387",
     "exception": false,
     "start_time": "2023-02-13T09:45:32.388175",
     "status": "completed"
    },
    "tags": []
   },
   "outputs": [
    {
     "data": {
      "text/html": [
       "<div>\n",
       "<style scoped>\n",
       "    .dataframe tbody tr th:only-of-type {\n",
       "        vertical-align: middle;\n",
       "    }\n",
       "\n",
       "    .dataframe tbody tr th {\n",
       "        vertical-align: top;\n",
       "    }\n",
       "\n",
       "    .dataframe thead th {\n",
       "        text-align: right;\n",
       "    }\n",
       "</style>\n",
       "<table border=\"1\" class=\"dataframe\">\n",
       "  <thead>\n",
       "    <tr style=\"text-align: right;\">\n",
       "      <th></th>\n",
       "      <th>Training Loss</th>\n",
       "      <th>Valid. Loss</th>\n",
       "      <th>Valid. Accur.</th>\n",
       "      <th>Val_F1</th>\n",
       "      <th>Training Time</th>\n",
       "      <th>Validation Time</th>\n",
       "    </tr>\n",
       "    <tr>\n",
       "      <th>epoch</th>\n",
       "      <th></th>\n",
       "      <th></th>\n",
       "      <th></th>\n",
       "      <th></th>\n",
       "      <th></th>\n",
       "      <th></th>\n",
       "    </tr>\n",
       "  </thead>\n",
       "  <tbody>\n",
       "    <tr>\n",
       "      <th>1</th>\n",
       "      <td>0.51</td>\n",
       "      <td>0.46</td>\n",
       "      <td>0.80</td>\n",
       "      <td>0.35</td>\n",
       "      <td>0:01:22</td>\n",
       "      <td>0:00:22</td>\n",
       "    </tr>\n",
       "    <tr>\n",
       "      <th>2</th>\n",
       "      <td>0.40</td>\n",
       "      <td>0.42</td>\n",
       "      <td>0.82</td>\n",
       "      <td>0.33</td>\n",
       "      <td>0:01:21</td>\n",
       "      <td>0:00:22</td>\n",
       "    </tr>\n",
       "    <tr>\n",
       "      <th>3</th>\n",
       "      <td>0.36</td>\n",
       "      <td>0.41</td>\n",
       "      <td>0.83</td>\n",
       "      <td>0.33</td>\n",
       "      <td>0:01:21</td>\n",
       "      <td>0:00:22</td>\n",
       "    </tr>\n",
       "  </tbody>\n",
       "</table>\n",
       "</div>"
      ],
      "text/plain": [
       "       Training Loss  Valid. Loss  Valid. Accur.  Val_F1 Training Time  \\\n",
       "epoch                                                                    \n",
       "1               0.51         0.46           0.80    0.35       0:01:22   \n",
       "2               0.40         0.42           0.82    0.33       0:01:21   \n",
       "3               0.36         0.41           0.83    0.33       0:01:21   \n",
       "\n",
       "      Validation Time  \n",
       "epoch                  \n",
       "1             0:00:22  \n",
       "2             0:00:22  \n",
       "3             0:00:22  "
      ]
     },
     "metadata": {},
     "output_type": "display_data"
    }
   ],
   "source": [
    "pd.set_option('precision', 2)\n",
    "df_stats = pd.DataFrame(data=training_stats)\n",
    "df_stats = df_stats.set_index('epoch')\n",
    "display(df_stats)"
   ]
  },
  {
   "cell_type": "markdown",
   "id": "01d3dd4d",
   "metadata": {
    "papermill": {
     "duration": 0.023399,
     "end_time": "2023-02-13T09:45:32.477753",
     "exception": false,
     "start_time": "2023-02-13T09:45:32.454354",
     "status": "completed"
    },
    "tags": []
   },
   "source": [
    "最后，利用训练的模型对测试集进行预测："
   ]
  },
  {
   "cell_type": "code",
   "execution_count": 48,
   "id": "f8ec524d",
   "metadata": {
    "execution": {
     "iopub.execute_input": "2023-02-13T09:45:32.527523Z",
     "iopub.status.busy": "2023-02-13T09:45:32.526905Z",
     "iopub.status.idle": "2023-02-13T09:45:44.343237Z",
     "shell.execute_reply": "2023-02-13T09:45:44.342260Z"
    },
    "papermill": {
     "duration": 11.843538,
     "end_time": "2023-02-13T09:45:44.345663",
     "exception": false,
     "start_time": "2023-02-13T09:45:32.502125",
     "status": "completed"
    },
    "tags": []
   },
   "outputs": [
    {
     "name": "stdout",
     "output_type": "stream",
     "text": [
      "Predicting labels for 3,263 test sentences...\n"
     ]
    }
   ],
   "source": [
    "print('Predicting labels for {:,} test sentences...'.format(len(test_input_ids)))\n",
    "model.eval() # 切换模式到 evalutaion \n",
    "\n",
    "predictions = []\n",
    "\n",
    "for batch in prediction_dataloader:\n",
    "    batch = tuple(t.to(device) for t in batch) # 加载数据到GPU\n",
    "    b_input_ids, b_input_mask, = batch\n",
    "  \n",
    "    with torch.no_grad():\n",
    "        outputs = model(b_input_ids, token_type_ids=None, \n",
    "                      attention_mask=b_input_mask)\n",
    "    logits = outputs[0]\n",
    "    \n",
    "    logits = logits.detach().cpu().numpy()\n",
    "    \n",
    "    predictions.append(logits)"
   ]
  },
  {
   "cell_type": "code",
   "execution_count": 49,
   "id": "35072279",
   "metadata": {
    "execution": {
     "iopub.execute_input": "2023-02-13T09:45:44.396055Z",
     "iopub.status.busy": "2023-02-13T09:45:44.395187Z",
     "iopub.status.idle": "2023-02-13T09:45:44.403012Z",
     "shell.execute_reply": "2023-02-13T09:45:44.402164Z"
    },
    "papermill": {
     "duration": 0.035045,
     "end_time": "2023-02-13T09:45:44.405145",
     "exception": false,
     "start_time": "2023-02-13T09:45:44.370100",
     "status": "completed"
    },
    "tags": []
   },
   "outputs": [],
   "source": [
    "# 展平预测结果，用argmax激活函数输出最后的预测结果\n",
    "flat_predictions = [item for sublist in predictions for item in sublist]\n",
    "flat_predictions = np.argmax(flat_predictions, axis=1).flatten()"
   ]
  },
  {
   "cell_type": "markdown",
   "id": "eb445178",
   "metadata": {
    "papermill": {
     "duration": 0.023629,
     "end_time": "2023-02-13T09:45:44.452609",
     "exception": false,
     "start_time": "2023-02-13T09:45:44.428980",
     "status": "completed"
    },
    "tags": []
   },
   "source": [
    "将预测结果汇总并提交到 Kaggle："
   ]
  },
  {
   "cell_type": "code",
   "execution_count": 50,
   "id": "e4eab020",
   "metadata": {
    "execution": {
     "iopub.execute_input": "2023-02-13T09:45:44.502824Z",
     "iopub.status.busy": "2023-02-13T09:45:44.502470Z",
     "iopub.status.idle": "2023-02-13T09:45:44.520643Z",
     "shell.execute_reply": "2023-02-13T09:45:44.519792Z"
    },
    "papermill": {
     "duration": 0.045498,
     "end_time": "2023-02-13T09:45:44.522654",
     "exception": false,
     "start_time": "2023-02-13T09:45:44.477156",
     "status": "completed"
    },
    "tags": []
   },
   "outputs": [],
   "source": [
    "submission = pd.read_csv('/kaggle/input/nlp-getting-started/sample_submission.csv')\n",
    "submission['target'] = flat_predictions\n",
    "submission.to_csv('submission.csv', index=False, header=True)"
   ]
  },
  {
   "attachments": {
    "102ba4f0-fb77-4790-a390-27c520101c6c.png": {
     "image/png": "[encoded data removed]"
    }
   },
   "cell_type": "markdown",
   "id": "8148cef7",
   "metadata": {
    "papermill": {
     "duration": 0.023914,
     "end_time": "2023-02-13T09:45:44.570699",
     "exception": false,
     "start_time": "2023-02-13T09:45:44.546785",
     "status": "completed"
    },
    "tags": []
   },
   "source": [
    "**本次提交成绩f1：0.82378**，高于前面的 Model 和 Kaggle Benchmark。\n",
    "![image.png](attachment:102ba4f0-fb77-4790-a390-27c520101c6c.png)\n",
    "\n",
    "得益于 Bert 的强大表示能力，模型性能得到显著提升。"
   ]
  },
  {
   "cell_type": "markdown",
   "id": "c3823b7d",
   "metadata": {
    "papermill": {
     "duration": 0.032613,
     "end_time": "2023-02-13T09:45:44.627315",
     "exception": false,
     "start_time": "2023-02-13T09:45:44.594702",
     "status": "completed"
    },
    "tags": []
   },
   "source": [
    "# 总结\n",
    "\n",
    "本次竞赛过程对来自 Twitter 的过万条推文进行预处理及分析，运用多种算法进行文本分类。通过实践在一定程度上提升了模型性能和表现。最终F1绝对值在 0.82 左右，仍有一定优化空间。结合赛题讨论区留言得知，训练数据集中存在不少错误标注、重复标注数据，如需突破下一个性能瓶颈可能需要在数据清洗方面投入更多精力。\n",
    "\n",
    "本次竞赛数据集来自原始的推文，在开头的分析中发现原始自然语言存在许多需要处理的问题，须经过一定预处理后才能交由模型进行学习训练。个人认为在自然语言处理任务中，重中之重是通过对语料的了解，同时根据后续算法的输入特征，对文本数据进行恰当的清洗，对文本数据进行恰当、巧妙的预处理对于模型性能提升可以起到事半功倍的作用。"
   ]
  },
  {
   "cell_type": "code",
   "execution_count": null,
   "id": "fad78a16",
   "metadata": {
    "papermill": {
     "duration": 0.027227,
     "end_time": "2023-02-13T09:45:44.678063",
     "exception": false,
     "start_time": "2023-02-13T09:45:44.650836",
     "status": "completed"
    },
    "tags": []
   },
   "outputs": [],
   "source": []
  }
 ],
 "metadata": {
  "kernelspec": {
   "display_name": "Python 3",
   "language": "python",
   "name": "python3"
  },
  "language_info": {
   "codemirror_mode": {
    "name": "ipython",
    "version": 3
   },
   "file_extension": ".py",
   "mimetype": "text/x-python",
   "name": "python",
   "nbconvert_exporter": "python",
   "pygments_lexer": "ipython3",
   "version": "3.7.12"
  },
  "papermill": {
   "default_parameters": {},
   "duration": 461.520362,
   "end_time": "2023-02-13T09:45:48.477890",
   "environment_variables": {},
   "exception": null,
   "input_path": "__notebook__.ipynb",
   "output_path": "__notebook__.ipynb",
   "parameters": {},
   "start_time": "2023-02-13T09:38:06.957528",
   "version": "2.3.4"
  },
  "widgets": {
   "application/vnd.jupyter.widget-state+json": {
    "state": {
     "0b741a3b3177439ab8a1a0af3957eac0": {
      "model_module": "@jupyter-widgets/controls",
      "model_module_version": "1.5.0",
      "model_name": "HTMLModel",
      "state": {
       "_dom_classes": [],
       "_model_module": "@jupyter-widgets/controls",
       "_model_module_version": "1.5.0",
       "_model_name": "HTMLModel",
       "_view_count": null,
       "_view_module": "@jupyter-widgets/controls",
       "_view_module_version": "1.5.0",
       "_view_name": "HTMLView",
       "description": "",
       "description_tooltip": null,
       "layout": "IPY_MODEL_df9c3bea486e4e55ab10483c78abd410",
       "placeholder": "​",
       "style": "IPY_MODEL_f5f20caf3c924dd99c85b1a30e958ea8",
       "value": "Downloading: 100%"
      }
     },
     "108bfdd0cf984a32b01e01bcb4610521": {
      "model_module": "@jupyter-widgets/controls",
      "model_module_version": "1.5.0",
      "model_name": "HTMLModel",
      "state": {
       "_dom_classes": [],
       "_model_module": "@jupyter-widgets/controls",
       "_model_module_version": "1.5.0",
       "_model_name": "HTMLModel",
       "_view_count": null,
       "_view_module": "@jupyter-widgets/controls",
       "_view_module_version": "1.5.0",
       "_view_name": "HTMLView",
       "description": "",
       "description_tooltip": null,
       "layout": "IPY_MODEL_9ec11e300eb8413bbc5e5028c1070e97",
       "placeholder": "​",
       "style": "IPY_MODEL_140d3cb3953446bd814a0dc376607bd0",
       "value": " 28.0/28.0 [00:00&lt;00:00, 1.09kB/s]"
      }
     },
     "140d3cb3953446bd814a0dc376607bd0": {
      "model_module": "@jupyter-widgets/controls",
      "model_module_version": "1.5.0",
      "model_name": "DescriptionStyleModel",
      "state": {
       "_model_module": "@jupyter-widgets/controls",
       "_model_module_version": "1.5.0",
       "_model_name": "DescriptionStyleModel",
       "_view_count": null,
       "_view_module": "@jupyter-widgets/base",
       "_view_module_version": "1.2.0",
       "_view_name": "StyleView",
       "description_width": ""
      }
     },
     "18ffc54accd143f8bf00f803b13d8b8b": {
      "model_module": "@jupyter-widgets/controls",
      "model_module_version": "1.5.0",
      "model_name": "FloatProgressModel",
      "state": {
       "_dom_classes": [],
       "_model_module": "@jupyter-widgets/controls",
       "_model_module_version": "1.5.0",
       "_model_name": "FloatProgressModel",
       "_view_count": null,
       "_view_module": "@jupyter-widgets/controls",
       "_view_module_version": "1.5.0",
       "_view_name": "ProgressView",
       "bar_style": "success",
       "description": "",
       "description_tooltip": null,
       "layout": "IPY_MODEL_296eaedf913a4deb87939303483236c6",
       "max": 571.0,
       "min": 0.0,
       "orientation": "horizontal",
       "style": "IPY_MODEL_67354e4da7474ea5a18af193cf90ee77",
       "value": 571.0
      }
     },
     "19da8c0097ce4340a1920c9e2a79d3b7": {
      "model_module": "@jupyter-widgets/controls",
      "model_module_version": "1.5.0",
      "model_name": "DescriptionStyleModel",
      "state": {
       "_model_module": "@jupyter-widgets/controls",
       "_model_module_version": "1.5.0",
       "_model_name": "DescriptionStyleModel",
       "_view_count": null,
       "_view_module": "@jupyter-widgets/base",
       "_view_module_version": "1.2.0",
       "_view_name": "StyleView",
       "description_width": ""
      }
     },
     "1db55eee2da8466caff9e6c5f65ff194": {
      "model_module": "@jupyter-widgets/controls",
      "model_module_version": "1.5.0",
      "model_name": "DescriptionStyleModel",
      "state": {
       "_model_module": "@jupyter-widgets/controls",
       "_model_module_version": "1.5.0",
       "_model_name": "DescriptionStyleModel",
       "_view_count": null,
       "_view_module": "@jupyter-widgets/base",
       "_view_module_version": "1.2.0",
       "_view_name": "StyleView",
       "description_width": ""
      }
     },
     "28ba5e85b63241d7ad0786fad4827909": {
      "model_module": "@jupyter-widgets/base",
      "model_module_version": "1.2.0",
      "model_name": "LayoutModel",
      "state": {
       "_model_module": "@jupyter-widgets/base",
       "_model_module_version": "1.2.0",
       "_model_name": "LayoutModel",
       "_view_count": null,
       "_view_module": "@jupyter-widgets/base",
       "_view_module_version": "1.2.0",
       "_view_name": "LayoutView",
       "align_content": null,
       "align_items": null,
       "align_self": null,
       "border": null,
       "bottom": null,
       "display": null,
       "flex": null,
       "flex_flow": null,
       "grid_area": null,
       "grid_auto_columns": null,
       "grid_auto_flow": null,
       "grid_auto_rows": null,
       "grid_column": null,
       "grid_gap": null,
       "grid_row": null,
       "grid_template_areas": null,
       "grid_template_columns": null,
       "grid_template_rows": null,
       "height": null,
       "justify_content": null,
       "justify_items": null,
       "left": null,
       "margin": null,
       "max_height": null,
       "max_width": null,
       "min_height": null,
       "min_width": null,
       "object_fit": null,
       "object_position": null,
       "order": null,
       "overflow": null,
       "overflow_x": null,
       "overflow_y": null,
       "padding": null,
       "right": null,
       "top": null,
       "visibility": null,
       "width": null
      }
     },
     "296eaedf913a4deb87939303483236c6": {
      "model_module": "@jupyter-widgets/base",
      "model_module_version": "1.2.0",
      "model_name": "LayoutModel",
      "state": {
       "_model_module": "@jupyter-widgets/base",
       "_model_module_version": "1.2.0",
       "_model_name": "LayoutModel",
       "_view_count": null,
       "_view_module": "@jupyter-widgets/base",
       "_view_module_version": "1.2.0",
       "_view_name": "LayoutView",
       "align_content": null,
       "align_items": null,
       "align_self": null,
       "border": null,
       "bottom": null,
       "display": null,
       "flex": null,
       "flex_flow": null,
       "grid_area": null,
       "grid_auto_columns": null,
       "grid_auto_flow": null,
       "grid_auto_rows": null,
       "grid_column": null,
       "grid_gap": null,
       "grid_row": null,
       "grid_template_areas": null,
       "grid_template_columns": null,
       "grid_template_rows": null,
       "height": null,
       "justify_content": null,
       "justify_items": null,
       "left": null,
       "margin": null,
       "max_height": null,
       "max_width": null,
       "min_height": null,
       "min_width": null,
       "object_fit": null,
       "object_position": null,
       "order": null,
       "overflow": null,
       "overflow_x": null,
       "overflow_y": null,
       "padding": null,
       "right": null,
       "top": null,
       "visibility": null,
       "width": null
      }
     },
     "2dc7e446949b47eeb95055c6fff9cd97": {
      "model_module": "@jupyter-widgets/base",
      "model_module_version": "1.2.0",
      "model_name": "LayoutModel",
      "state": {
       "_model_module": "@jupyter-widgets/base",
       "_model_module_version": "1.2.0",
       "_model_name": "LayoutModel",
       "_view_count": null,
       "_view_module": "@jupyter-widgets/base",
       "_view_module_version": "1.2.0",
       "_view_name": "LayoutView",
       "align_content": null,
       "align_items": null,
       "align_self": null,
       "border": null,
       "bottom": null,
       "display": null,
       "flex": null,
       "flex_flow": null,
       "grid_area": null,
       "grid_auto_columns": null,
       "grid_auto_flow": null,
       "grid_auto_rows": null,
       "grid_column": null,
       "grid_gap": null,
       "grid_row": null,
       "grid_template_areas": null,
       "grid_template_columns": null,
       "grid_template_rows": null,
       "height": null,
       "justify_content": null,
       "justify_items": null,
       "left": null,
       "margin": null,
       "max_height": null,
       "max_width": null,
       "min_height": null,
       "min_width": null,
       "object_fit": null,
       "object_position": null,
       "order": null,
       "overflow": null,
       "overflow_x": null,
       "overflow_y": null,
       "padding": null,
       "right": null,
       "top": null,
       "visibility": null,
       "width": null
      }
     },
     "2fa975e5f69c45849acf1a0cc869fc7a": {
      "model_module": "@jupyter-widgets/base",
      "model_module_version": "1.2.0",
      "model_name": "LayoutModel",
      "state": {
       "_model_module": "@jupyter-widgets/base",
       "_model_module_version": "1.2.0",
       "_model_name": "LayoutModel",
       "_view_count": null,
       "_view_module": "@jupyter-widgets/base",
       "_view_module_version": "1.2.0",
       "_view_name": "LayoutView",
       "align_content": null,
       "align_items": null,
       "align_self": null,
       "border": null,
       "bottom": null,
       "display": null,
       "flex": null,
       "flex_flow": null,
       "grid_area": null,
       "grid_auto_columns": null,
       "grid_auto_flow": null,
       "grid_auto_rows": null,
       "grid_column": null,
       "grid_gap": null,
       "grid_row": null,
       "grid_template_areas": null,
       "grid_template_columns": null,
       "grid_template_rows": null,
       "height": null,
       "justify_content": null,
       "justify_items": null,
       "left": null,
       "margin": null,
       "max_height": null,
       "max_width": null,
       "min_height": null,
       "min_width": null,
       "object_fit": null,
       "object_position": null,
       "order": null,
       "overflow": null,
       "overflow_x": null,
       "overflow_y": null,
       "padding": null,
       "right": null,
       "top": null,
       "visibility": null,
       "width": null
      }
     },
     "42fdf7be4c6645ddac86a7dabe547b3e": {
      "model_module": "@jupyter-widgets/controls",
      "model_module_version": "1.5.0",
      "model_name": "DescriptionStyleModel",
      "state": {
       "_model_module": "@jupyter-widgets/controls",
       "_model_module_version": "1.5.0",
       "_model_name": "DescriptionStyleModel",
       "_view_count": null,
       "_view_module": "@jupyter-widgets/base",
       "_view_module_version": "1.2.0",
       "_view_name": "StyleView",
       "description_width": ""
      }
     },
     "4755a37606bb47178a5754bf66a2cc4b": {
      "model_module": "@jupyter-widgets/controls",
      "model_module_version": "1.5.0",
      "model_name": "DescriptionStyleModel",
      "state": {
       "_model_module": "@jupyter-widgets/controls",
       "_model_module_version": "1.5.0",
       "_model_name": "DescriptionStyleModel",
       "_view_count": null,
       "_view_module": "@jupyter-widgets/base",
       "_view_module_version": "1.2.0",
       "_view_name": "StyleView",
       "description_width": ""
      }
     },
     "4a242f6c34424b8ca91fa544b409d0d4": {
      "model_module": "@jupyter-widgets/controls",
      "model_module_version": "1.5.0",
      "model_name": "HTMLModel",
      "state": {
       "_dom_classes": [],
       "_model_module": "@jupyter-widgets/controls",
       "_model_module_version": "1.5.0",
       "_model_name": "HTMLModel",
       "_view_count": null,
       "_view_module": "@jupyter-widgets/controls",
       "_view_module_version": "1.5.0",
       "_view_name": "HTMLView",
       "description": "",
       "description_tooltip": null,
       "layout": "IPY_MODEL_28ba5e85b63241d7ad0786fad4827909",
       "placeholder": "​",
       "style": "IPY_MODEL_19da8c0097ce4340a1920c9e2a79d3b7",
       "value": " 226k/226k [00:00&lt;00:00, 2.81MB/s]"
      }
     },
     "4a6a61f6ea1e43b3a3be48649f3125ba": {
      "model_module": "@jupyter-widgets/controls",
      "model_module_version": "1.5.0",
      "model_name": "ProgressStyleModel",
      "state": {
       "_model_module": "@jupyter-widgets/controls",
       "_model_module_version": "1.5.0",
       "_model_name": "ProgressStyleModel",
       "_view_count": null,
       "_view_module": "@jupyter-widgets/base",
       "_view_module_version": "1.2.0",
       "_view_name": "StyleView",
       "bar_color": null,
       "description_width": ""
      }
     },
     "5180375c2285478a8879cb7386b8407a": {
      "model_module": "@jupyter-widgets/controls",
      "model_module_version": "1.5.0",
      "model_name": "FloatProgressModel",
      "state": {
       "_dom_classes": [],
       "_model_module": "@jupyter-widgets/controls",
       "_model_module_version": "1.5.0",
       "_model_name": "FloatProgressModel",
       "_view_count": null,
       "_view_module": "@jupyter-widgets/controls",
       "_view_module_version": "1.5.0",
       "_view_name": "ProgressView",
       "bar_style": "success",
       "description": "",
       "description_tooltip": null,
       "layout": "IPY_MODEL_2dc7e446949b47eeb95055c6fff9cd97",
       "max": 28.0,
       "min": 0.0,
       "orientation": "horizontal",
       "style": "IPY_MODEL_b9821dc052134bdd9a4af20900e7324a",
       "value": 28.0
      }
     },
     "67354e4da7474ea5a18af193cf90ee77": {
      "model_module": "@jupyter-widgets/controls",
      "model_module_version": "1.5.0",
      "model_name": "ProgressStyleModel",
      "state": {
       "_model_module": "@jupyter-widgets/controls",
       "_model_module_version": "1.5.0",
       "_model_name": "ProgressStyleModel",
       "_view_count": null,
       "_view_module": "@jupyter-widgets/base",
       "_view_module_version": "1.2.0",
       "_view_name": "StyleView",
       "bar_color": null,
       "description_width": ""
      }
     },
     "6a04d334ba7447bb941e61b220013d6d": {
      "model_module": "@jupyter-widgets/base",
      "model_module_version": "1.2.0",
      "model_name": "LayoutModel",
      "state": {
       "_model_module": "@jupyter-widgets/base",
       "_model_module_version": "1.2.0",
       "_model_name": "LayoutModel",
       "_view_count": null,
       "_view_module": "@jupyter-widgets/base",
       "_view_module_version": "1.2.0",
       "_view_name": "LayoutView",
       "align_content": null,
       "align_items": null,
       "align_self": null,
       "border": null,
       "bottom": null,
       "display": null,
       "flex": null,
       "flex_flow": null,
       "grid_area": null,
       "grid_auto_columns": null,
       "grid_auto_flow": null,
       "grid_auto_rows": null,
       "grid_column": null,
       "grid_gap": null,
       "grid_row": null,
       "grid_template_areas": null,
       "grid_template_columns": null,
       "grid_template_rows": null,
       "height": null,
       "justify_content": null,
       "justify_items": null,
       "left": null,
       "margin": null,
       "max_height": null,
       "max_width": null,
       "min_height": null,
       "min_width": null,
       "object_fit": null,
       "object_position": null,
       "order": null,
       "overflow": null,
       "overflow_x": null,
       "overflow_y": null,
       "padding": null,
       "right": null,
       "top": null,
       "visibility": null,
       "width": null
      }
     },
     "6fcb4d5088fb43ef88d5bc4696101a7a": {
      "model_module": "@jupyter-widgets/controls",
      "model_module_version": "1.5.0",
      "model_name": "HBoxModel",
      "state": {
       "_dom_classes": [],
       "_model_module": "@jupyter-widgets/controls",
       "_model_module_version": "1.5.0",
       "_model_name": "HBoxModel",
       "_view_count": null,
       "_view_module": "@jupyter-widgets/controls",
       "_view_module_version": "1.5.0",
       "_view_name": "HBoxView",
       "box_style": "",
       "children": [
        "IPY_MODEL_de488c7656c44e6294b6f0e87aad8190",
        "IPY_MODEL_7fa13de22cf44617912b9fdd4d014812",
        "IPY_MODEL_4a242f6c34424b8ca91fa544b409d0d4"
       ],
       "layout": "IPY_MODEL_865c57cd1bf14f2eadb319bd00834e45"
      }
     },
     "7df70097420a45e192e23a8565007672": {
      "model_module": "@jupyter-widgets/controls",
      "model_module_version": "1.5.0",
      "model_name": "HTMLModel",
      "state": {
       "_dom_classes": [],
       "_model_module": "@jupyter-widgets/controls",
       "_model_module_version": "1.5.0",
       "_model_name": "HTMLModel",
       "_view_count": null,
       "_view_module": "@jupyter-widgets/controls",
       "_view_module_version": "1.5.0",
       "_view_name": "HTMLView",
       "description": "",
       "description_tooltip": null,
       "layout": "IPY_MODEL_8ff8c4644ec34732a0e81025f613d5fb",
       "placeholder": "​",
       "style": "IPY_MODEL_d50293d7c88f424d9183e57bda70ea22",
       "value": "Downloading: 100%"
      }
     },
     "7fa13de22cf44617912b9fdd4d014812": {
      "model_module": "@jupyter-widgets/controls",
      "model_module_version": "1.5.0",
      "model_name": "FloatProgressModel",
      "state": {
       "_dom_classes": [],
       "_model_module": "@jupyter-widgets/controls",
       "_model_module_version": "1.5.0",
       "_model_name": "FloatProgressModel",
       "_view_count": null,
       "_view_module": "@jupyter-widgets/controls",
       "_view_module_version": "1.5.0",
       "_view_name": "ProgressView",
       "bar_style": "success",
       "description": "",
       "description_tooltip": null,
       "layout": "IPY_MODEL_8a0cf15d2df9423aaa9fa30f03807027",
       "max": 231508.0,
       "min": 0.0,
       "orientation": "horizontal",
       "style": "IPY_MODEL_4a6a61f6ea1e43b3a3be48649f3125ba",
       "value": 231508.0
      }
     },
     "835ae34ed25748998bf822c7edda2afa": {
      "model_module": "@jupyter-widgets/controls",
      "model_module_version": "1.5.0",
      "model_name": "DescriptionStyleModel",
      "state": {
       "_model_module": "@jupyter-widgets/controls",
       "_model_module_version": "1.5.0",
       "_model_name": "DescriptionStyleModel",
       "_view_count": null,
       "_view_module": "@jupyter-widgets/base",
       "_view_module_version": "1.2.0",
       "_view_name": "StyleView",
       "description_width": ""
      }
     },
     "83aded23fcd14f228e9609a8ca638fbc": {
      "model_module": "@jupyter-widgets/base",
      "model_module_version": "1.2.0",
      "model_name": "LayoutModel",
      "state": {
       "_model_module": "@jupyter-widgets/base",
       "_model_module_version": "1.2.0",
       "_model_name": "LayoutModel",
       "_view_count": null,
       "_view_module": "@jupyter-widgets/base",
       "_view_module_version": "1.2.0",
       "_view_name": "LayoutView",
       "align_content": null,
       "align_items": null,
       "align_self": null,
       "border": null,
       "bottom": null,
       "display": null,
       "flex": null,
       "flex_flow": null,
       "grid_area": null,
       "grid_auto_columns": null,
       "grid_auto_flow": null,
       "grid_auto_rows": null,
       "grid_column": null,
       "grid_gap": null,
       "grid_row": null,
       "grid_template_areas": null,
       "grid_template_columns": null,
       "grid_template_rows": null,
       "height": null,
       "justify_content": null,
       "justify_items": null,
       "left": null,
       "margin": null,
       "max_height": null,
       "max_width": null,
       "min_height": null,
       "min_width": null,
       "object_fit": null,
       "object_position": null,
       "order": null,
       "overflow": null,
       "overflow_x": null,
       "overflow_y": null,
       "padding": null,
       "right": null,
       "top": null,
       "visibility": null,
       "width": null
      }
     },
     "8460cff952ed40459041f7169f54ce5d": {
      "model_module": "@jupyter-widgets/base",
      "model_module_version": "1.2.0",
      "model_name": "LayoutModel",
      "state": {
       "_model_module": "@jupyter-widgets/base",
       "_model_module_version": "1.2.0",
       "_model_name": "LayoutModel",
       "_view_count": null,
       "_view_module": "@jupyter-widgets/base",
       "_view_module_version": "1.2.0",
       "_view_name": "LayoutView",
       "align_content": null,
       "align_items": null,
       "align_self": null,
       "border": null,
       "bottom": null,
       "display": null,
       "flex": null,
       "flex_flow": null,
       "grid_area": null,
       "grid_auto_columns": null,
       "grid_auto_flow": null,
       "grid_auto_rows": null,
       "grid_column": null,
       "grid_gap": null,
       "grid_row": null,
       "grid_template_areas": null,
       "grid_template_columns": null,
       "grid_template_rows": null,
       "height": null,
       "justify_content": null,
       "justify_items": null,
       "left": null,
       "margin": null,
       "max_height": null,
       "max_width": null,
       "min_height": null,
       "min_width": null,
       "object_fit": null,
       "object_position": null,
       "order": null,
       "overflow": null,
       "overflow_x": null,
       "overflow_y": null,
       "padding": null,
       "right": null,
       "top": null,
       "visibility": null,
       "width": null
      }
     },
     "865c57cd1bf14f2eadb319bd00834e45": {
      "model_module": "@jupyter-widgets/base",
      "model_module_version": "1.2.0",
      "model_name": "LayoutModel",
      "state": {
       "_model_module": "@jupyter-widgets/base",
       "_model_module_version": "1.2.0",
       "_model_name": "LayoutModel",
       "_view_count": null,
       "_view_module": "@jupyter-widgets/base",
       "_view_module_version": "1.2.0",
       "_view_name": "LayoutView",
       "align_content": null,
       "align_items": null,
       "align_self": null,
       "border": null,
       "bottom": null,
       "display": null,
       "flex": null,
       "flex_flow": null,
       "grid_area": null,
       "grid_auto_columns": null,
       "grid_auto_flow": null,
       "grid_auto_rows": null,
       "grid_column": null,
       "grid_gap": null,
       "grid_row": null,
       "grid_template_areas": null,
       "grid_template_columns": null,
       "grid_template_rows": null,
       "height": null,
       "justify_content": null,
       "justify_items": null,
       "left": null,
       "margin": null,
       "max_height": null,
       "max_width": null,
       "min_height": null,
       "min_width": null,
       "object_fit": null,
       "object_position": null,
       "order": null,
       "overflow": null,
       "overflow_x": null,
       "overflow_y": null,
       "padding": null,
       "right": null,
       "top": null,
       "visibility": null,
       "width": null
      }
     },
     "8a0cf15d2df9423aaa9fa30f03807027": {
      "model_module": "@jupyter-widgets/base",
      "model_module_version": "1.2.0",
      "model_name": "LayoutModel",
      "state": {
       "_model_module": "@jupyter-widgets/base",
       "_model_module_version": "1.2.0",
       "_model_name": "LayoutModel",
       "_view_count": null,
       "_view_module": "@jupyter-widgets/base",
       "_view_module_version": "1.2.0",
       "_view_name": "LayoutView",
       "align_content": null,
       "align_items": null,
       "align_self": null,
       "border": null,
       "bottom": null,
       "display": null,
       "flex": null,
       "flex_flow": null,
       "grid_area": null,
       "grid_auto_columns": null,
       "grid_auto_flow": null,
       "grid_auto_rows": null,
       "grid_column": null,
       "grid_gap": null,
       "grid_row": null,
       "grid_template_areas": null,
       "grid_template_columns": null,
       "grid_template_rows": null,
       "height": null,
       "justify_content": null,
       "justify_items": null,
       "left": null,
       "margin": null,
       "max_height": null,
       "max_width": null,
       "min_height": null,
       "min_width": null,
       "object_fit": null,
       "object_position": null,
       "order": null,
       "overflow": null,
       "overflow_x": null,
       "overflow_y": null,
       "padding": null,
       "right": null,
       "top": null,
       "visibility": null,
       "width": null
      }
     },
     "8ff8c4644ec34732a0e81025f613d5fb": {
      "model_module": "@jupyter-widgets/base",
      "model_module_version": "1.2.0",
      "model_name": "LayoutModel",
      "state": {
       "_model_module": "@jupyter-widgets/base",
       "_model_module_version": "1.2.0",
       "_model_name": "LayoutModel",
       "_view_count": null,
       "_view_module": "@jupyter-widgets/base",
       "_view_module_version": "1.2.0",
       "_view_name": "LayoutView",
       "align_content": null,
       "align_items": null,
       "align_self": null,
       "border": null,
       "bottom": null,
       "display": null,
       "flex": null,
       "flex_flow": null,
       "grid_area": null,
       "grid_auto_columns": null,
       "grid_auto_flow": null,
       "grid_auto_rows": null,
       "grid_column": null,
       "grid_gap": null,
       "grid_row": null,
       "grid_template_areas": null,
       "grid_template_columns": null,
       "grid_template_rows": null,
       "height": null,
       "justify_content": null,
       "justify_items": null,
       "left": null,
       "margin": null,
       "max_height": null,
       "max_width": null,
       "min_height": null,
       "min_width": null,
       "object_fit": null,
       "object_position": null,
       "order": null,
       "overflow": null,
       "overflow_x": null,
       "overflow_y": null,
       "padding": null,
       "right": null,
       "top": null,
       "visibility": null,
       "width": null
      }
     },
     "9133f6d4f707421ea4100c9f9d281140": {
      "model_module": "@jupyter-widgets/controls",
      "model_module_version": "1.5.0",
      "model_name": "HTMLModel",
      "state": {
       "_dom_classes": [],
       "_model_module": "@jupyter-widgets/controls",
       "_model_module_version": "1.5.0",
       "_model_name": "HTMLModel",
       "_view_count": null,
       "_view_module": "@jupyter-widgets/controls",
       "_view_module_version": "1.5.0",
       "_view_name": "HTMLView",
       "description": "",
       "description_tooltip": null,
       "layout": "IPY_MODEL_920445ed62d743a2bbeaf5bc5e0df11a",
       "placeholder": "​",
       "style": "IPY_MODEL_42fdf7be4c6645ddac86a7dabe547b3e",
       "value": " 571/571 [00:00&lt;00:00, 20.8kB/s]"
      }
     },
     "920445ed62d743a2bbeaf5bc5e0df11a": {
      "model_module": "@jupyter-widgets/base",
      "model_module_version": "1.2.0",
      "model_name": "LayoutModel",
      "state": {
       "_model_module": "@jupyter-widgets/base",
       "_model_module_version": "1.2.0",
       "_model_name": "LayoutModel",
       "_view_count": null,
       "_view_module": "@jupyter-widgets/base",
       "_view_module_version": "1.2.0",
       "_view_name": "LayoutView",
       "align_content": null,
       "align_items": null,
       "align_self": null,
       "border": null,
       "bottom": null,
       "display": null,
       "flex": null,
       "flex_flow": null,
       "grid_area": null,
       "grid_auto_columns": null,
       "grid_auto_flow": null,
       "grid_auto_rows": null,
       "grid_column": null,
       "grid_gap": null,
       "grid_row": null,
       "grid_template_areas": null,
       "grid_template_columns": null,
       "grid_template_rows": null,
       "height": null,
       "justify_content": null,
       "justify_items": null,
       "left": null,
       "margin": null,
       "max_height": null,
       "max_width": null,
       "min_height": null,
       "min_width": null,
       "object_fit": null,
       "object_position": null,
       "order": null,
       "overflow": null,
       "overflow_x": null,
       "overflow_y": null,
       "padding": null,
       "right": null,
       "top": null,
       "visibility": null,
       "width": null
      }
     },
     "9a8f430043e5481fb75dbb467ca1260c": {
      "model_module": "@jupyter-widgets/controls",
      "model_module_version": "1.5.0",
      "model_name": "HTMLModel",
      "state": {
       "_dom_classes": [],
       "_model_module": "@jupyter-widgets/controls",
       "_model_module_version": "1.5.0",
       "_model_name": "HTMLModel",
       "_view_count": null,
       "_view_module": "@jupyter-widgets/controls",
       "_view_module_version": "1.5.0",
       "_view_name": "HTMLView",
       "description": "",
       "description_tooltip": null,
       "layout": "IPY_MODEL_2fa975e5f69c45849acf1a0cc869fc7a",
       "placeholder": "​",
       "style": "IPY_MODEL_1db55eee2da8466caff9e6c5f65ff194",
       "value": " 1.25G/1.25G [00:45&lt;00:00, 33.1MB/s]"
      }
     },
     "9ec11e300eb8413bbc5e5028c1070e97": {
      "model_module": "@jupyter-widgets/base",
      "model_module_version": "1.2.0",
      "model_name": "LayoutModel",
      "state": {
       "_model_module": "@jupyter-widgets/base",
       "_model_module_version": "1.2.0",
       "_model_name": "LayoutModel",
       "_view_count": null,
       "_view_module": "@jupyter-widgets/base",
       "_view_module_version": "1.2.0",
       "_view_name": "LayoutView",
       "align_content": null,
       "align_items": null,
       "align_self": null,
       "border": null,
       "bottom": null,
       "display": null,
       "flex": null,
       "flex_flow": null,
       "grid_area": null,
       "grid_auto_columns": null,
       "grid_auto_flow": null,
       "grid_auto_rows": null,
       "grid_column": null,
       "grid_gap": null,
       "grid_row": null,
       "grid_template_areas": null,
       "grid_template_columns": null,
       "grid_template_rows": null,
       "height": null,
       "justify_content": null,
       "justify_items": null,
       "left": null,
       "margin": null,
       "max_height": null,
       "max_width": null,
       "min_height": null,
       "min_width": null,
       "object_fit": null,
       "object_position": null,
       "order": null,
       "overflow": null,
       "overflow_x": null,
       "overflow_y": null,
       "padding": null,
       "right": null,
       "top": null,
       "visibility": null,
       "width": null
      }
     },
     "b9821dc052134bdd9a4af20900e7324a": {
      "model_module": "@jupyter-widgets/controls",
      "model_module_version": "1.5.0",
      "model_name": "ProgressStyleModel",
      "state": {
       "_model_module": "@jupyter-widgets/controls",
       "_model_module_version": "1.5.0",
       "_model_name": "ProgressStyleModel",
       "_view_count": null,
       "_view_module": "@jupyter-widgets/base",
       "_view_module_version": "1.2.0",
       "_view_name": "StyleView",
       "bar_color": null,
       "description_width": ""
      }
     },
     "be9a8e5024434e76b3783b2445338f3f": {
      "model_module": "@jupyter-widgets/controls",
      "model_module_version": "1.5.0",
      "model_name": "FloatProgressModel",
      "state": {
       "_dom_classes": [],
       "_model_module": "@jupyter-widgets/controls",
       "_model_module_version": "1.5.0",
       "_model_name": "FloatProgressModel",
       "_view_count": null,
       "_view_module": "@jupyter-widgets/controls",
       "_view_module_version": "1.5.0",
       "_view_name": "ProgressView",
       "bar_style": "success",
       "description": "",
       "description_tooltip": null,
       "layout": "IPY_MODEL_fd24b92b1ba646118a90953d439d45bc",
       "max": 1344997306.0,
       "min": 0.0,
       "orientation": "horizontal",
       "style": "IPY_MODEL_e8ecff0a27c54adc909480ef3e60b87d",
       "value": 1344997306.0
      }
     },
     "d372e4e3d7a1479ca057d42955f232db": {
      "model_module": "@jupyter-widgets/controls",
      "model_module_version": "1.5.0",
      "model_name": "HBoxModel",
      "state": {
       "_dom_classes": [],
       "_model_module": "@jupyter-widgets/controls",
       "_model_module_version": "1.5.0",
       "_model_name": "HBoxModel",
       "_view_count": null,
       "_view_module": "@jupyter-widgets/controls",
       "_view_module_version": "1.5.0",
       "_view_name": "HBoxView",
       "box_style": "",
       "children": [
        "IPY_MODEL_0b741a3b3177439ab8a1a0af3957eac0",
        "IPY_MODEL_18ffc54accd143f8bf00f803b13d8b8b",
        "IPY_MODEL_9133f6d4f707421ea4100c9f9d281140"
       ],
       "layout": "IPY_MODEL_db8c8dee437f4861807206e94667134b"
      }
     },
     "d50293d7c88f424d9183e57bda70ea22": {
      "model_module": "@jupyter-widgets/controls",
      "model_module_version": "1.5.0",
      "model_name": "DescriptionStyleModel",
      "state": {
       "_model_module": "@jupyter-widgets/controls",
       "_model_module_version": "1.5.0",
       "_model_name": "DescriptionStyleModel",
       "_view_count": null,
       "_view_module": "@jupyter-widgets/base",
       "_view_module_version": "1.2.0",
       "_view_name": "StyleView",
       "description_width": ""
      }
     },
     "d54bd45b616b4c78b1956c9fa312fa16": {
      "model_module": "@jupyter-widgets/controls",
      "model_module_version": "1.5.0",
      "model_name": "HBoxModel",
      "state": {
       "_dom_classes": [],
       "_model_module": "@jupyter-widgets/controls",
       "_model_module_version": "1.5.0",
       "_model_name": "HBoxModel",
       "_view_count": null,
       "_view_module": "@jupyter-widgets/controls",
       "_view_module_version": "1.5.0",
       "_view_name": "HBoxView",
       "box_style": "",
       "children": [
        "IPY_MODEL_7df70097420a45e192e23a8565007672",
        "IPY_MODEL_5180375c2285478a8879cb7386b8407a",
        "IPY_MODEL_108bfdd0cf984a32b01e01bcb4610521"
       ],
       "layout": "IPY_MODEL_f946598e9ae34edb9d16f0984d5f52b4"
      }
     },
     "db8c8dee437f4861807206e94667134b": {
      "model_module": "@jupyter-widgets/base",
      "model_module_version": "1.2.0",
      "model_name": "LayoutModel",
      "state": {
       "_model_module": "@jupyter-widgets/base",
       "_model_module_version": "1.2.0",
       "_model_name": "LayoutModel",
       "_view_count": null,
       "_view_module": "@jupyter-widgets/base",
       "_view_module_version": "1.2.0",
       "_view_name": "LayoutView",
       "align_content": null,
       "align_items": null,
       "align_self": null,
       "border": null,
       "bottom": null,
       "display": null,
       "flex": null,
       "flex_flow": null,
       "grid_area": null,
       "grid_auto_columns": null,
       "grid_auto_flow": null,
       "grid_auto_rows": null,
       "grid_column": null,
       "grid_gap": null,
       "grid_row": null,
       "grid_template_areas": null,
       "grid_template_columns": null,
       "grid_template_rows": null,
       "height": null,
       "justify_content": null,
       "justify_items": null,
       "left": null,
       "margin": null,
       "max_height": null,
       "max_width": null,
       "min_height": null,
       "min_width": null,
       "object_fit": null,
       "object_position": null,
       "order": null,
       "overflow": null,
       "overflow_x": null,
       "overflow_y": null,
       "padding": null,
       "right": null,
       "top": null,
       "visibility": null,
       "width": null
      }
     },
     "de488c7656c44e6294b6f0e87aad8190": {
      "model_module": "@jupyter-widgets/controls",
      "model_module_version": "1.5.0",
      "model_name": "HTMLModel",
      "state": {
       "_dom_classes": [],
       "_model_module": "@jupyter-widgets/controls",
       "_model_module_version": "1.5.0",
       "_model_name": "HTMLModel",
       "_view_count": null,
       "_view_module": "@jupyter-widgets/controls",
       "_view_module_version": "1.5.0",
       "_view_name": "HTMLView",
       "description": "",
       "description_tooltip": null,
       "layout": "IPY_MODEL_83aded23fcd14f228e9609a8ca638fbc",
       "placeholder": "​",
       "style": "IPY_MODEL_835ae34ed25748998bf822c7edda2afa",
       "value": "Downloading: 100%"
      }
     },
     "df9c3bea486e4e55ab10483c78abd410": {
      "model_module": "@jupyter-widgets/base",
      "model_module_version": "1.2.0",
      "model_name": "LayoutModel",
      "state": {
       "_model_module": "@jupyter-widgets/base",
       "_model_module_version": "1.2.0",
       "_model_name": "LayoutModel",
       "_view_count": null,
       "_view_module": "@jupyter-widgets/base",
       "_view_module_version": "1.2.0",
       "_view_name": "LayoutView",
       "align_content": null,
       "align_items": null,
       "align_self": null,
       "border": null,
       "bottom": null,
       "display": null,
       "flex": null,
       "flex_flow": null,
       "grid_area": null,
       "grid_auto_columns": null,
       "grid_auto_flow": null,
       "grid_auto_rows": null,
       "grid_column": null,
       "grid_gap": null,
       "grid_row": null,
       "grid_template_areas": null,
       "grid_template_columns": null,
       "grid_template_rows": null,
       "height": null,
       "justify_content": null,
       "justify_items": null,
       "left": null,
       "margin": null,
       "max_height": null,
       "max_width": null,
       "min_height": null,
       "min_width": null,
       "object_fit": null,
       "object_position": null,
       "order": null,
       "overflow": null,
       "overflow_x": null,
       "overflow_y": null,
       "padding": null,
       "right": null,
       "top": null,
       "visibility": null,
       "width": null
      }
     },
     "e8ecff0a27c54adc909480ef3e60b87d": {
      "model_module": "@jupyter-widgets/controls",
      "model_module_version": "1.5.0",
      "model_name": "ProgressStyleModel",
      "state": {
       "_model_module": "@jupyter-widgets/controls",
       "_model_module_version": "1.5.0",
       "_model_name": "ProgressStyleModel",
       "_view_count": null,
       "_view_module": "@jupyter-widgets/base",
       "_view_module_version": "1.2.0",
       "_view_name": "StyleView",
       "bar_color": null,
       "description_width": ""
      }
     },
     "f5f20caf3c924dd99c85b1a30e958ea8": {
      "model_module": "@jupyter-widgets/controls",
      "model_module_version": "1.5.0",
      "model_name": "DescriptionStyleModel",
      "state": {
       "_model_module": "@jupyter-widgets/controls",
       "_model_module_version": "1.5.0",
       "_model_name": "DescriptionStyleModel",
       "_view_count": null,
       "_view_module": "@jupyter-widgets/base",
       "_view_module_version": "1.2.0",
       "_view_name": "StyleView",
       "description_width": ""
      }
     },
     "f64eafc453bf4c4eaf29df8aad2c87fa": {
      "model_module": "@jupyter-widgets/controls",
      "model_module_version": "1.5.0",
      "model_name": "HTMLModel",
      "state": {
       "_dom_classes": [],
       "_model_module": "@jupyter-widgets/controls",
       "_model_module_version": "1.5.0",
       "_model_name": "HTMLModel",
       "_view_count": null,
       "_view_module": "@jupyter-widgets/controls",
       "_view_module_version": "1.5.0",
       "_view_name": "HTMLView",
       "description": "",
       "description_tooltip": null,
       "layout": "IPY_MODEL_6a04d334ba7447bb941e61b220013d6d",
       "placeholder": "​",
       "style": "IPY_MODEL_4755a37606bb47178a5754bf66a2cc4b",
       "value": "Downloading: 100%"
      }
     },
     "f7f8a309ee2e45b683714af2031526dc": {
      "model_module": "@jupyter-widgets/controls",
      "model_module_version": "1.5.0",
      "model_name": "HBoxModel",
      "state": {
       "_dom_classes": [],
       "_model_module": "@jupyter-widgets/controls",
       "_model_module_version": "1.5.0",
       "_model_name": "HBoxModel",
       "_view_count": null,
       "_view_module": "@jupyter-widgets/controls",
       "_view_module_version": "1.5.0",
       "_view_name": "HBoxView",
       "box_style": "",
       "children": [
        "IPY_MODEL_f64eafc453bf4c4eaf29df8aad2c87fa",
        "IPY_MODEL_be9a8e5024434e76b3783b2445338f3f",
        "IPY_MODEL_9a8f430043e5481fb75dbb467ca1260c"
       ],
       "layout": "IPY_MODEL_8460cff952ed40459041f7169f54ce5d"
      }
     },
     "f946598e9ae34edb9d16f0984d5f52b4": {
      "model_module": "@jupyter-widgets/base",
      "model_module_version": "1.2.0",
      "model_name": "LayoutModel",
      "state": {
       "_model_module": "@jupyter-widgets/base",
       "_model_module_version": "1.2.0",
       "_model_name": "LayoutModel",
       "_view_count": null,
       "_view_module": "@jupyter-widgets/base",
       "_view_module_version": "1.2.0",
       "_view_name": "LayoutView",
       "align_content": null,
       "align_items": null,
       "align_self": null,
       "border": null,
       "bottom": null,
       "display": null,
       "flex": null,
       "flex_flow": null,
       "grid_area": null,
       "grid_auto_columns": null,
       "grid_auto_flow": null,
       "grid_auto_rows": null,
       "grid_column": null,
       "grid_gap": null,
       "grid_row": null,
       "grid_template_areas": null,
       "grid_template_columns": null,
       "grid_template_rows": null,
       "height": null,
       "justify_content": null,
       "justify_items": null,
       "left": null,
       "margin": null,
       "max_height": null,
       "max_width": null,
       "min_height": null,
       "min_width": null,
       "object_fit": null,
       "object_position": null,
       "order": null,
       "overflow": null,
       "overflow_x": null,
       "overflow_y": null,
       "padding": null,
       "right": null,
       "top": null,
       "visibility": null,
       "width": null
      }
     },
     "fd24b92b1ba646118a90953d439d45bc": {
      "model_module": "@jupyter-widgets/base",
      "model_module_version": "1.2.0",
      "model_name": "LayoutModel",
      "state": {
       "_model_module": "@jupyter-widgets/base",
       "_model_module_version": "1.2.0",
       "_model_name": "LayoutModel",
       "_view_count": null,
       "_view_module": "@jupyter-widgets/base",
       "_view_module_version": "1.2.0",
       "_view_name": "LayoutView",
       "align_content": null,
       "align_items": null,
       "align_self": null,
       "border": null,
       "bottom": null,
       "display": null,
       "flex": null,
       "flex_flow": null,
       "grid_area": null,
       "grid_auto_columns": null,
       "grid_auto_flow": null,
       "grid_auto_rows": null,
       "grid_column": null,
       "grid_gap": null,
       "grid_row": null,
       "grid_template_areas": null,
       "grid_template_columns": null,
       "grid_template_rows": null,
       "height": null,
       "justify_content": null,
       "justify_items": null,
       "left": null,
       "margin": null,
       "max_height": null,
       "max_width": null,
       "min_height": null,
       "min_width": null,
       "object_fit": null,
       "object_position": null,
       "order": null,
       "overflow": null,
       "overflow_x": null,
       "overflow_y": null,
       "padding": null,
       "right": null,
       "top": null,
       "visibility": null,
       "width": null
      }
     }
    },
    "version_major": 2,
    "version_minor": 0
   }
  }
 },
 "nbformat": 4,
 "nbformat_minor": 5
}
